{
 "cells": [
  {
   "cell_type": "code",
   "execution_count": 10,
   "metadata": {},
   "outputs": [],
   "source": [
    "#Import libraries\n",
    "import pandas as pd\n",
    "import numpy as np\n",
    "import matplotlib.pyplot as plt\n",
    "import matplotlib.cm as cm\n",
    "import seaborn as sn\n",
    "\n",
    "%matplotlib inline\n",
    "\n"
   ]
  },
  {
   "cell_type": "code",
   "execution_count": 13,
   "metadata": {},
   "outputs": [],
   "source": [
    "import pandas                               as     pd\n",
    "import numpy                                as     np\n",
    "import matplotlib.pyplot                    as     plt\n",
    "import seaborn                              as     sns\n",
    "import statsmodels.api                      as     sm\n",
    "import scipy.stats                          as     stats\n",
    "from   sklearn                              import datasets\n",
    "from   sklearn.metrics                      import mean_squared_error\n",
    "from   sklearn.preprocessing                import PolynomialFeatures\n",
    "from   sklearn.linear_model                 import LinearRegression\n",
    "from   sklearn                              import linear_model\n",
    "from   sklearn.model_selection  import train_test_split\n",
    "from sklearn.metrics import confusion_matrix \n",
    "from sklearn.metrics import accuracy_score \n",
    "from sklearn.metrics import classification_report\n",
    "from sklearn.metrics import precision_score\n",
    "from sklearn.metrics import recall_score\n",
    "#from imblearn.metrics import specificity_score\n",
    "from sklearn.metrics import f1_score "
   ]
  },
  {
   "cell_type": "code",
   "execution_count": 14,
   "metadata": {},
   "outputs": [],
   "source": [
    "import pandas as pd\n",
    "import numpy as np\n",
    "import matplotlib.pyplot as plt\n",
    "import seaborn as sns\n",
    "from sklearn import metrics\n",
    "from sklearn.naive_bayes import GaussianNB \n",
    "from sklearn.model_selection import train_test_split \n",
    "from sklearn.metrics import confusion_matrix,auc,roc_auc_score\n",
    "from sklearn.metrics import recall_score, precision_score, accuracy_score, f1_score\n",
    "from sklearn.model_selection import train_test_split, GridSearchCV, StratifiedKFold\n",
    "from sklearn.metrics import roc_curve, precision_recall_curve, auc, make_scorer, recall_score, accuracy_score, precision_score, confusion_matrix\n",
    "import statsmodels.api                      as     sm\n",
    "\n",
    "\n",
    "%matplotlib inline"
   ]
  },
  {
   "cell_type": "code",
   "execution_count": 15,
   "metadata": {},
   "outputs": [],
   "source": [
    "#Import libraries\n",
    "import pandas as pd\n",
    "import numpy as np\n",
    "import matplotlib.pyplot as plt\n",
    "import matplotlib.cm as cm\n",
    "import seaborn as sns\n",
    "from sklearn.preprocessing import StandardScaler\n",
    "from sklearn.cluster import KMeans\n",
    "%matplotlib inline"
   ]
  },
  {
   "cell_type": "code",
   "execution_count": 16,
   "metadata": {},
   "outputs": [],
   "source": [
    "import numpy as np\n",
    "import pandas as pd\n",
    "from matplotlib import pyplot as plt\n",
    "from scipy.cluster.hierarchy import dendrogram, linkage\n",
    "from scipy.cluster.hierarchy import fcluster\n",
    "from scipy.cluster.hierarchy import cophenet\n",
    "from scipy.spatial.distance import pdist\n",
    "from pylab import rcParams\n",
    "import seaborn as sns\n",
    "import sklearn.metrics as sm\n",
    "import scipy.cluster.hierarchy as sch\n",
    "from sklearn.cluster import AgglomerativeClustering"
   ]
  },
  {
   "cell_type": "code",
   "execution_count": 17,
   "metadata": {},
   "outputs": [],
   "source": [
    "from sklearn.datasets import load_breast_cancer\n",
    "\n",
    "cancer = load_breast_cancer()\n",
    "\n",
    "df = pd.DataFrame(cancer.data, columns=[cancer.feature_names])"
   ]
  },
  {
   "cell_type": "code",
   "execution_count": 18,
   "metadata": {},
   "outputs": [
    {
     "data": {
      "text/plain": [
       "MultiIndex(levels=[['area error', 'compactness error', 'concave points error', 'concavity error', 'fractal dimension error', 'mean area', 'mean compactness', 'mean concave points', 'mean concavity', 'mean fractal dimension', 'mean perimeter', 'mean radius', 'mean smoothness', 'mean symmetry', 'mean texture', 'perimeter error', 'radius error', 'smoothness error', 'symmetry error', 'texture error', 'worst area', 'worst compactness', 'worst concave points', 'worst concavity', 'worst fractal dimension', 'worst perimeter', 'worst radius', 'worst smoothness', 'worst symmetry', 'worst texture']],\n",
       "           labels=[[11, 14, 10, 5, 12, 6, 8, 7, 13, 9, 16, 19, 15, 0, 17, 1, 3, 2, 18, 4, 26, 29, 25, 20, 27, 21, 23, 22, 28, 24]])"
      ]
     },
     "execution_count": 18,
     "metadata": {},
     "output_type": "execute_result"
    }
   ],
   "source": [
    "df.columns"
   ]
  },
  {
   "cell_type": "code",
   "execution_count": 19,
   "metadata": {},
   "outputs": [
    {
     "data": {
      "text/html": [
       "<div>\n",
       "<style scoped>\n",
       "    .dataframe tbody tr th:only-of-type {\n",
       "        vertical-align: middle;\n",
       "    }\n",
       "\n",
       "    .dataframe tbody tr th {\n",
       "        vertical-align: top;\n",
       "    }\n",
       "\n",
       "    .dataframe thead th {\n",
       "        text-align: right;\n",
       "    }\n",
       "</style>\n",
       "<table border=\"1\" class=\"dataframe\">\n",
       "  <thead>\n",
       "    <tr style=\"text-align: right;\">\n",
       "      <th></th>\n",
       "      <th>0</th>\n",
       "      <th>1</th>\n",
       "      <th>2</th>\n",
       "      <th>3</th>\n",
       "      <th>4</th>\n",
       "    </tr>\n",
       "  </thead>\n",
       "  <tbody>\n",
       "    <tr>\n",
       "      <th>mean radius</th>\n",
       "      <td>17.990000</td>\n",
       "      <td>20.570000</td>\n",
       "      <td>19.690000</td>\n",
       "      <td>11.420000</td>\n",
       "      <td>20.290000</td>\n",
       "    </tr>\n",
       "    <tr>\n",
       "      <th>mean texture</th>\n",
       "      <td>10.380000</td>\n",
       "      <td>17.770000</td>\n",
       "      <td>21.250000</td>\n",
       "      <td>20.380000</td>\n",
       "      <td>14.340000</td>\n",
       "    </tr>\n",
       "    <tr>\n",
       "      <th>mean perimeter</th>\n",
       "      <td>122.800000</td>\n",
       "      <td>132.900000</td>\n",
       "      <td>130.000000</td>\n",
       "      <td>77.580000</td>\n",
       "      <td>135.100000</td>\n",
       "    </tr>\n",
       "    <tr>\n",
       "      <th>mean area</th>\n",
       "      <td>1001.000000</td>\n",
       "      <td>1326.000000</td>\n",
       "      <td>1203.000000</td>\n",
       "      <td>386.100000</td>\n",
       "      <td>1297.000000</td>\n",
       "    </tr>\n",
       "    <tr>\n",
       "      <th>mean smoothness</th>\n",
       "      <td>0.118400</td>\n",
       "      <td>0.084740</td>\n",
       "      <td>0.109600</td>\n",
       "      <td>0.142500</td>\n",
       "      <td>0.100300</td>\n",
       "    </tr>\n",
       "    <tr>\n",
       "      <th>mean compactness</th>\n",
       "      <td>0.277600</td>\n",
       "      <td>0.078640</td>\n",
       "      <td>0.159900</td>\n",
       "      <td>0.283900</td>\n",
       "      <td>0.132800</td>\n",
       "    </tr>\n",
       "    <tr>\n",
       "      <th>mean concavity</th>\n",
       "      <td>0.300100</td>\n",
       "      <td>0.086900</td>\n",
       "      <td>0.197400</td>\n",
       "      <td>0.241400</td>\n",
       "      <td>0.198000</td>\n",
       "    </tr>\n",
       "    <tr>\n",
       "      <th>mean concave points</th>\n",
       "      <td>0.147100</td>\n",
       "      <td>0.070170</td>\n",
       "      <td>0.127900</td>\n",
       "      <td>0.105200</td>\n",
       "      <td>0.104300</td>\n",
       "    </tr>\n",
       "    <tr>\n",
       "      <th>mean symmetry</th>\n",
       "      <td>0.241900</td>\n",
       "      <td>0.181200</td>\n",
       "      <td>0.206900</td>\n",
       "      <td>0.259700</td>\n",
       "      <td>0.180900</td>\n",
       "    </tr>\n",
       "    <tr>\n",
       "      <th>mean fractal dimension</th>\n",
       "      <td>0.078710</td>\n",
       "      <td>0.056670</td>\n",
       "      <td>0.059990</td>\n",
       "      <td>0.097440</td>\n",
       "      <td>0.058830</td>\n",
       "    </tr>\n",
       "    <tr>\n",
       "      <th>radius error</th>\n",
       "      <td>1.095000</td>\n",
       "      <td>0.543500</td>\n",
       "      <td>0.745600</td>\n",
       "      <td>0.495600</td>\n",
       "      <td>0.757200</td>\n",
       "    </tr>\n",
       "    <tr>\n",
       "      <th>texture error</th>\n",
       "      <td>0.905300</td>\n",
       "      <td>0.733900</td>\n",
       "      <td>0.786900</td>\n",
       "      <td>1.156000</td>\n",
       "      <td>0.781300</td>\n",
       "    </tr>\n",
       "    <tr>\n",
       "      <th>perimeter error</th>\n",
       "      <td>8.589000</td>\n",
       "      <td>3.398000</td>\n",
       "      <td>4.585000</td>\n",
       "      <td>3.445000</td>\n",
       "      <td>5.438000</td>\n",
       "    </tr>\n",
       "    <tr>\n",
       "      <th>area error</th>\n",
       "      <td>153.400000</td>\n",
       "      <td>74.080000</td>\n",
       "      <td>94.030000</td>\n",
       "      <td>27.230000</td>\n",
       "      <td>94.440000</td>\n",
       "    </tr>\n",
       "    <tr>\n",
       "      <th>smoothness error</th>\n",
       "      <td>0.006399</td>\n",
       "      <td>0.005225</td>\n",
       "      <td>0.006150</td>\n",
       "      <td>0.009110</td>\n",
       "      <td>0.011490</td>\n",
       "    </tr>\n",
       "    <tr>\n",
       "      <th>compactness error</th>\n",
       "      <td>0.049040</td>\n",
       "      <td>0.013080</td>\n",
       "      <td>0.040060</td>\n",
       "      <td>0.074580</td>\n",
       "      <td>0.024610</td>\n",
       "    </tr>\n",
       "    <tr>\n",
       "      <th>concavity error</th>\n",
       "      <td>0.053730</td>\n",
       "      <td>0.018600</td>\n",
       "      <td>0.038320</td>\n",
       "      <td>0.056610</td>\n",
       "      <td>0.056880</td>\n",
       "    </tr>\n",
       "    <tr>\n",
       "      <th>concave points error</th>\n",
       "      <td>0.015870</td>\n",
       "      <td>0.013400</td>\n",
       "      <td>0.020580</td>\n",
       "      <td>0.018670</td>\n",
       "      <td>0.018850</td>\n",
       "    </tr>\n",
       "    <tr>\n",
       "      <th>symmetry error</th>\n",
       "      <td>0.030030</td>\n",
       "      <td>0.013890</td>\n",
       "      <td>0.022500</td>\n",
       "      <td>0.059630</td>\n",
       "      <td>0.017560</td>\n",
       "    </tr>\n",
       "    <tr>\n",
       "      <th>fractal dimension error</th>\n",
       "      <td>0.006193</td>\n",
       "      <td>0.003532</td>\n",
       "      <td>0.004571</td>\n",
       "      <td>0.009208</td>\n",
       "      <td>0.005115</td>\n",
       "    </tr>\n",
       "    <tr>\n",
       "      <th>worst radius</th>\n",
       "      <td>25.380000</td>\n",
       "      <td>24.990000</td>\n",
       "      <td>23.570000</td>\n",
       "      <td>14.910000</td>\n",
       "      <td>22.540000</td>\n",
       "    </tr>\n",
       "    <tr>\n",
       "      <th>worst texture</th>\n",
       "      <td>17.330000</td>\n",
       "      <td>23.410000</td>\n",
       "      <td>25.530000</td>\n",
       "      <td>26.500000</td>\n",
       "      <td>16.670000</td>\n",
       "    </tr>\n",
       "    <tr>\n",
       "      <th>worst perimeter</th>\n",
       "      <td>184.600000</td>\n",
       "      <td>158.800000</td>\n",
       "      <td>152.500000</td>\n",
       "      <td>98.870000</td>\n",
       "      <td>152.200000</td>\n",
       "    </tr>\n",
       "    <tr>\n",
       "      <th>worst area</th>\n",
       "      <td>2019.000000</td>\n",
       "      <td>1956.000000</td>\n",
       "      <td>1709.000000</td>\n",
       "      <td>567.700000</td>\n",
       "      <td>1575.000000</td>\n",
       "    </tr>\n",
       "    <tr>\n",
       "      <th>worst smoothness</th>\n",
       "      <td>0.162200</td>\n",
       "      <td>0.123800</td>\n",
       "      <td>0.144400</td>\n",
       "      <td>0.209800</td>\n",
       "      <td>0.137400</td>\n",
       "    </tr>\n",
       "    <tr>\n",
       "      <th>worst compactness</th>\n",
       "      <td>0.665600</td>\n",
       "      <td>0.186600</td>\n",
       "      <td>0.424500</td>\n",
       "      <td>0.866300</td>\n",
       "      <td>0.205000</td>\n",
       "    </tr>\n",
       "    <tr>\n",
       "      <th>worst concavity</th>\n",
       "      <td>0.711900</td>\n",
       "      <td>0.241600</td>\n",
       "      <td>0.450400</td>\n",
       "      <td>0.686900</td>\n",
       "      <td>0.400000</td>\n",
       "    </tr>\n",
       "    <tr>\n",
       "      <th>worst concave points</th>\n",
       "      <td>0.265400</td>\n",
       "      <td>0.186000</td>\n",
       "      <td>0.243000</td>\n",
       "      <td>0.257500</td>\n",
       "      <td>0.162500</td>\n",
       "    </tr>\n",
       "    <tr>\n",
       "      <th>worst symmetry</th>\n",
       "      <td>0.460100</td>\n",
       "      <td>0.275000</td>\n",
       "      <td>0.361300</td>\n",
       "      <td>0.663800</td>\n",
       "      <td>0.236400</td>\n",
       "    </tr>\n",
       "    <tr>\n",
       "      <th>worst fractal dimension</th>\n",
       "      <td>0.118900</td>\n",
       "      <td>0.089020</td>\n",
       "      <td>0.087580</td>\n",
       "      <td>0.173000</td>\n",
       "      <td>0.076780</td>\n",
       "    </tr>\n",
       "  </tbody>\n",
       "</table>\n",
       "</div>"
      ],
      "text/plain": [
       "                                   0            1            2           3  \\\n",
       "mean radius                17.990000    20.570000    19.690000   11.420000   \n",
       "mean texture               10.380000    17.770000    21.250000   20.380000   \n",
       "mean perimeter            122.800000   132.900000   130.000000   77.580000   \n",
       "mean area                1001.000000  1326.000000  1203.000000  386.100000   \n",
       "mean smoothness             0.118400     0.084740     0.109600    0.142500   \n",
       "mean compactness            0.277600     0.078640     0.159900    0.283900   \n",
       "mean concavity              0.300100     0.086900     0.197400    0.241400   \n",
       "mean concave points         0.147100     0.070170     0.127900    0.105200   \n",
       "mean symmetry               0.241900     0.181200     0.206900    0.259700   \n",
       "mean fractal dimension      0.078710     0.056670     0.059990    0.097440   \n",
       "radius error                1.095000     0.543500     0.745600    0.495600   \n",
       "texture error               0.905300     0.733900     0.786900    1.156000   \n",
       "perimeter error             8.589000     3.398000     4.585000    3.445000   \n",
       "area error                153.400000    74.080000    94.030000   27.230000   \n",
       "smoothness error            0.006399     0.005225     0.006150    0.009110   \n",
       "compactness error           0.049040     0.013080     0.040060    0.074580   \n",
       "concavity error             0.053730     0.018600     0.038320    0.056610   \n",
       "concave points error        0.015870     0.013400     0.020580    0.018670   \n",
       "symmetry error              0.030030     0.013890     0.022500    0.059630   \n",
       "fractal dimension error     0.006193     0.003532     0.004571    0.009208   \n",
       "worst radius               25.380000    24.990000    23.570000   14.910000   \n",
       "worst texture              17.330000    23.410000    25.530000   26.500000   \n",
       "worst perimeter           184.600000   158.800000   152.500000   98.870000   \n",
       "worst area               2019.000000  1956.000000  1709.000000  567.700000   \n",
       "worst smoothness            0.162200     0.123800     0.144400    0.209800   \n",
       "worst compactness           0.665600     0.186600     0.424500    0.866300   \n",
       "worst concavity             0.711900     0.241600     0.450400    0.686900   \n",
       "worst concave points        0.265400     0.186000     0.243000    0.257500   \n",
       "worst symmetry              0.460100     0.275000     0.361300    0.663800   \n",
       "worst fractal dimension     0.118900     0.089020     0.087580    0.173000   \n",
       "\n",
       "                                   4  \n",
       "mean radius                20.290000  \n",
       "mean texture               14.340000  \n",
       "mean perimeter            135.100000  \n",
       "mean area                1297.000000  \n",
       "mean smoothness             0.100300  \n",
       "mean compactness            0.132800  \n",
       "mean concavity              0.198000  \n",
       "mean concave points         0.104300  \n",
       "mean symmetry               0.180900  \n",
       "mean fractal dimension      0.058830  \n",
       "radius error                0.757200  \n",
       "texture error               0.781300  \n",
       "perimeter error             5.438000  \n",
       "area error                 94.440000  \n",
       "smoothness error            0.011490  \n",
       "compactness error           0.024610  \n",
       "concavity error             0.056880  \n",
       "concave points error        0.018850  \n",
       "symmetry error              0.017560  \n",
       "fractal dimension error     0.005115  \n",
       "worst radius               22.540000  \n",
       "worst texture              16.670000  \n",
       "worst perimeter           152.200000  \n",
       "worst area               1575.000000  \n",
       "worst smoothness            0.137400  \n",
       "worst compactness           0.205000  \n",
       "worst concavity             0.400000  \n",
       "worst concave points        0.162500  \n",
       "worst symmetry              0.236400  \n",
       "worst fractal dimension     0.076780  "
      ]
     },
     "execution_count": 19,
     "metadata": {},
     "output_type": "execute_result"
    }
   ],
   "source": [
    "df.head().T"
   ]
  },
  {
   "cell_type": "code",
   "execution_count": 20,
   "metadata": {},
   "outputs": [],
   "source": [
    "x=df\n",
    "y=cancer.target"
   ]
  },
  {
   "cell_type": "code",
   "execution_count": 21,
   "metadata": {},
   "outputs": [],
   "source": [
    "x1 = df.values"
   ]
  },
  {
   "cell_type": "code",
   "execution_count": 22,
   "metadata": {},
   "outputs": [
    {
     "data": {
      "text/plain": [
       "(569, 30)"
      ]
     },
     "execution_count": 22,
     "metadata": {},
     "output_type": "execute_result"
    }
   ],
   "source": [
    "x.shape"
   ]
  },
  {
   "cell_type": "code",
   "execution_count": 23,
   "metadata": {},
   "outputs": [
    {
     "data": {
      "text/plain": [
       "(569,)"
      ]
     },
     "execution_count": 23,
     "metadata": {},
     "output_type": "execute_result"
    }
   ],
   "source": [
    "y.shape"
   ]
  },
  {
   "cell_type": "code",
   "execution_count": 24,
   "metadata": {},
   "outputs": [],
   "source": [
    "scaler = StandardScaler()\n",
    "X_scaled = scaler.fit_transform(x)"
   ]
  },
  {
   "cell_type": "code",
   "execution_count": 25,
   "metadata": {},
   "outputs": [
    {
     "data": {
      "text/plain": [
       "KMeans(algorithm='auto', copy_x=True, init='k-means++', max_iter=300,\n",
       "    n_clusters=2, n_init=10, n_jobs=None, precompute_distances='auto',\n",
       "    random_state=4, tol=0.0001, verbose=0)"
      ]
     },
     "execution_count": 25,
     "metadata": {},
     "output_type": "execute_result"
    }
   ],
   "source": [
    "#Fit the model with scaled data\n",
    "kmeans = KMeans(n_clusters=2,random_state=4).fit(X_scaled)\n",
    "kmeans"
   ]
  },
  {
   "cell_type": "code",
   "execution_count": 26,
   "metadata": {},
   "outputs": [
    {
     "name": "stdout",
     "output_type": "stream",
     "text": [
      "[[-0.48299485 -0.23904142 -0.50041892 -0.47814154 -0.3110035  -0.52601873\n",
      "  -0.57903569 -0.58717117 -0.30908386 -0.1491409  -0.42798514 -0.02110994\n",
      "  -0.43097168 -0.40175149 -0.02383127 -0.37020054 -0.3345976  -0.39771232\n",
      "  -0.07493017 -0.23682231 -0.51785387 -0.25147802 -0.53231144 -0.49935772\n",
      "  -0.31607814 -0.49224121 -0.53684332 -0.58010099 -0.30335497 -0.33672889]\n",
      " [ 0.93362406  0.4620646   0.96730462  0.92424266  0.60116657  1.01678879\n",
      "   1.11927003  1.13499581  0.59745592  0.28828783  0.82729086  0.0408053\n",
      "   0.83306382  0.77658149  0.0460656   0.71559384  0.64677371  0.76877382\n",
      "   0.14483925  0.45777508  1.00100618  0.48610441  1.02895252  0.96525332\n",
      "   0.61097579  0.95149718  1.0377126   1.12132923  0.58638203  0.65089347]]\n",
      "[1 1 1 1 1 1 1 1 1 1 0 1 1 0 1 1 0 1 1 0 0 0 1 1 1 1 1 1 1 1 1 1 1 1 1 1 1\n",
      " 0 0 0 0 0 1 1 0 1 0 1 0 0 0 0 0 1 0 0 1 1 0 0 0 0 1 0 1 1 0 0 1 0 1 0 1 0\n",
      " 0 1 0 1 1 0 0 1 1 1 0 1 0 1 0 1 0 0 0 0 1 1 0 0 0 0 0 0 0 0 0 1 0 0 1 0 0\n",
      " 0 1 0 0 0 0 1 1 0 0 1 1 0 0 0 0 1 1 1 0 1 1 0 1 0 0 0 1 0 0 1 0 0 0 0 1 0\n",
      " 0 0 0 0 1 0 0 0 1 0 0 0 0 1 1 0 1 0 0 1 1 0 0 0 1 0 0 0 1 1 0 0 1 1 0 0 0\n",
      " 0 0 0 0 0 1 0 0 1 1 0 1 1 1 1 0 1 1 1 0 0 0 0 0 0 1 0 1 1 1 1 0 0 1 1 0 0\n",
      " 0 1 0 0 0 0 0 1 1 0 0 1 0 0 1 1 0 1 0 0 1 0 1 0 0 1 0 0 1 0 1 1 1 0 1 1 1\n",
      " 1 1 0 1 0 1 1 0 0 0 0 0 0 1 0 0 0 0 0 0 0 1 0 1 1 0 0 0 0 0 0 1 0 0 0 0 0\n",
      " 0 0 0 0 1 0 1 0 0 0 0 0 0 0 0 0 0 0 0 0 0 1 1 0 0 1 0 1 0 0 0 0 1 1 1 0 0\n",
      " 0 0 1 0 1 0 1 0 0 0 1 0 0 0 0 0 0 0 1 1 1 0 0 0 0 0 0 0 0 0 0 0 1 1 0 1 1\n",
      " 1 0 1 1 0 0 1 0 0 1 0 0 0 0 0 0 0 0 0 1 0 0 1 1 0 0 0 0 0 0 1 0 0 0 0 0 0\n",
      " 0 1 0 0 0 0 0 0 0 0 1 0 0 0 1 0 0 0 0 0 0 0 0 1 0 1 1 0 0 0 0 0 0 0 1 0 0\n",
      " 0 0 1 0 0 1 0 1 0 0 0 0 0 0 0 0 1 1 0 0 0 1 0 0 1 0 0 0 0 0 0 0 0 0 0 1 0\n",
      " 0 0 0 0 1 0 1 0 0 0 0 1 0 0 0 0 0 1 1 0 1 0 1 1 1 0 0 0 1 0 0 1 0 0 0 1 1\n",
      " 0 0 0 1 0 0 0 0 0 0 0 0 0 0 0 1 0 1 0 0 0 0 0 1 0 0 0 0 0 0 0 0 0 0 0 0 0\n",
      " 0 0 0 0 0 0 0 1 1 1 1 1 1 0]\n"
     ]
    }
   ],
   "source": [
    "#Get the centroids and labels\n",
    "centroids = kmeans.cluster_centers_\n",
    "print(centroids) # centroid\n",
    "\n",
    "label = kmeans.labels_\n",
    "print(label) #label"
   ]
  },
  {
   "cell_type": "code",
   "execution_count": 27,
   "metadata": {},
   "outputs": [],
   "source": [
    "# kmeans clustering  in an iteration 1 till 20 cluster size\n",
    "cluster_range = range( 1, 20 )\n",
    "cluster_errors = []\n",
    "\n",
    "for num_clusters in cluster_range:\n",
    "  clusters = KMeans( num_clusters )\n",
    "  clusters.fit( X_scaled )\n",
    "  cluster_errors.append( clusters.inertia_ )"
   ]
  },
  {
   "cell_type": "code",
   "execution_count": 28,
   "metadata": {},
   "outputs": [
    {
     "data": {
      "text/html": [
       "<div>\n",
       "<style scoped>\n",
       "    .dataframe tbody tr th:only-of-type {\n",
       "        vertical-align: middle;\n",
       "    }\n",
       "\n",
       "    .dataframe tbody tr th {\n",
       "        vertical-align: top;\n",
       "    }\n",
       "\n",
       "    .dataframe thead th {\n",
       "        text-align: right;\n",
       "    }\n",
       "</style>\n",
       "<table border=\"1\" class=\"dataframe\">\n",
       "  <thead>\n",
       "    <tr style=\"text-align: right;\">\n",
       "      <th></th>\n",
       "      <th>num_clusters</th>\n",
       "      <th>cluster_errors</th>\n",
       "    </tr>\n",
       "  </thead>\n",
       "  <tbody>\n",
       "    <tr>\n",
       "      <th>0</th>\n",
       "      <td>1</td>\n",
       "      <td>17070.000000</td>\n",
       "    </tr>\n",
       "    <tr>\n",
       "      <th>1</th>\n",
       "      <td>2</td>\n",
       "      <td>11595.461474</td>\n",
       "    </tr>\n",
       "    <tr>\n",
       "      <th>2</th>\n",
       "      <td>3</td>\n",
       "      <td>10061.797818</td>\n",
       "    </tr>\n",
       "    <tr>\n",
       "      <th>3</th>\n",
       "      <td>4</td>\n",
       "      <td>9258.453901</td>\n",
       "    </tr>\n",
       "    <tr>\n",
       "      <th>4</th>\n",
       "      <td>5</td>\n",
       "      <td>8558.002006</td>\n",
       "    </tr>\n",
       "    <tr>\n",
       "      <th>5</th>\n",
       "      <td>6</td>\n",
       "      <td>7967.968833</td>\n",
       "    </tr>\n",
       "    <tr>\n",
       "      <th>6</th>\n",
       "      <td>7</td>\n",
       "      <td>7583.046830</td>\n",
       "    </tr>\n",
       "    <tr>\n",
       "      <th>7</th>\n",
       "      <td>8</td>\n",
       "      <td>7155.598380</td>\n",
       "    </tr>\n",
       "    <tr>\n",
       "      <th>8</th>\n",
       "      <td>9</td>\n",
       "      <td>6915.445240</td>\n",
       "    </tr>\n",
       "    <tr>\n",
       "      <th>9</th>\n",
       "      <td>10</td>\n",
       "      <td>6647.369273</td>\n",
       "    </tr>\n",
       "    <tr>\n",
       "      <th>10</th>\n",
       "      <td>11</td>\n",
       "      <td>6502.922724</td>\n",
       "    </tr>\n",
       "    <tr>\n",
       "      <th>11</th>\n",
       "      <td>12</td>\n",
       "      <td>6214.226177</td>\n",
       "    </tr>\n",
       "    <tr>\n",
       "      <th>12</th>\n",
       "      <td>13</td>\n",
       "      <td>6076.638854</td>\n",
       "    </tr>\n",
       "    <tr>\n",
       "      <th>13</th>\n",
       "      <td>14</td>\n",
       "      <td>5896.167189</td>\n",
       "    </tr>\n",
       "    <tr>\n",
       "      <th>14</th>\n",
       "      <td>15</td>\n",
       "      <td>5796.130289</td>\n",
       "    </tr>\n",
       "  </tbody>\n",
       "</table>\n",
       "</div>"
      ],
      "text/plain": [
       "    num_clusters  cluster_errors\n",
       "0              1    17070.000000\n",
       "1              2    11595.461474\n",
       "2              3    10061.797818\n",
       "3              4     9258.453901\n",
       "4              5     8558.002006\n",
       "5              6     7967.968833\n",
       "6              7     7583.046830\n",
       "7              8     7155.598380\n",
       "8              9     6915.445240\n",
       "9             10     6647.369273\n",
       "10            11     6502.922724\n",
       "11            12     6214.226177\n",
       "12            13     6076.638854\n",
       "13            14     5896.167189\n",
       "14            15     5796.130289"
      ]
     },
     "execution_count": 28,
     "metadata": {},
     "output_type": "execute_result"
    }
   ],
   "source": [
    "clusters_df = pd.DataFrame( { \"num_clusters\":cluster_range, \"cluster_errors\": cluster_errors } )\n",
    "clusters_df[0:15]"
   ]
  },
  {
   "cell_type": "code",
   "execution_count": 29,
   "metadata": {},
   "outputs": [
    {
     "data": {
      "text/plain": [
       "[<matplotlib.lines.Line2D at 0x2944a14cf98>]"
      ]
     },
     "execution_count": 29,
     "metadata": {},
     "output_type": "execute_result"
    },
    {
     "data": {
      "image/png": "[encoded data removed]",
      "text/plain": [
       "<Figure size 864x432 with 1 Axes>"
      ]
     },
     "metadata": {
      "needs_background": "light"
     },
     "output_type": "display_data"
    }
   ],
   "source": [
    "plt.figure(figsize=(12,6))\n",
    "plt.plot( clusters_df.num_clusters, clusters_df.cluster_errors, marker = \"o\" )"
   ]
  },
  {
   "cell_type": "code",
   "execution_count": 30,
   "metadata": {},
   "outputs": [
    {
     "data": {
      "text/plain": [
       "KMeans(algorithm='auto', copy_x=True, init='k-means++', max_iter=300,\n",
       "    n_clusters=8, n_init=10, n_jobs=None, precompute_distances='auto',\n",
       "    random_state=4, tol=0.0001, verbose=0)"
      ]
     },
     "execution_count": 30,
     "metadata": {},
     "output_type": "execute_result"
    }
   ],
   "source": [
    "#Fit the model with scaled data\n",
    "kmeans8 = KMeans(n_clusters=8,random_state=4).fit(X_scaled)\n",
    "kmeans8"
   ]
  },
  {
   "cell_type": "code",
   "execution_count": 34,
   "metadata": {},
   "outputs": [
    {
     "name": "stdout",
     "output_type": "stream",
     "text": [
      "[[-0.48299485 -0.23904142 -0.50041892 -0.47814154 -0.3110035  -0.52601873\n",
      "  -0.57903569 -0.58717117 -0.30908386 -0.1491409  -0.42798514 -0.02110994\n",
      "  -0.43097168 -0.40175149 -0.02383127 -0.37020054 -0.3345976  -0.39771232\n",
      "  -0.07493017 -0.23682231 -0.51785387 -0.25147802 -0.53231144 -0.49935772\n",
      "  -0.31607814 -0.49224121 -0.53684332 -0.58010099 -0.30335497 -0.33672889]\n",
      " [ 0.93362406  0.4620646   0.96730462  0.92424266  0.60116657  1.01678879\n",
      "   1.11927003  1.13499581  0.59745592  0.28828783  0.82729086  0.0408053\n",
      "   0.83306382  0.77658149  0.0460656   0.71559384  0.64677371  0.76877382\n",
      "   0.14483925  0.45777508  1.00100618  0.48610441  1.02895252  0.96525332\n",
      "   0.61097579  0.95149718  1.0377126   1.12132923  0.58638203  0.65089347]]\n",
      "[2 0 2 5 0 5 0 5 5 5 1 5 2 1 5 5 0 5 0 3 3 4 5 0 0 2 5 0 5 0 2 5 5 0 5 0 5\n",
      " 1 1 5 3 4 2 5 3 0 4 5 3 1 1 3 3 0 3 4 0 5 1 4 4 4 5 4 5 5 4 3 6 3 0 6 5 3\n",
      " 3 0 4 2 2 3 4 5 2 2 3 0 1 0 1 5 1 0 3 3 5 0 4 4 3 4 1 4 1 4 4 5 4 3 2 4 4\n",
      " 4 6 4 4 4 4 5 5 0 3 0 2 3 3 3 1 0 4 0 4 0 0 3 0 1 1 3 0 4 3 0 4 3 3 4 5 1\n",
      " 3 3 4 6 6 3 4 3 0 1 3 3 4 0 2 4 0 3 3 0 0 3 3 3 5 4 1 3 6 5 1 3 2 2 0 3 3\n",
      " 4 0 3 1 3 6 1 1 5 5 3 5 0 0 5 4 0 2 5 4 3 4 0 5 3 0 3 7 6 5 5 4 1 0 0 3 3\n",
      " 4 5 3 3 3 3 1 5 5 1 1 0 4 1 2 0 1 0 3 3 5 1 0 4 1 5 1 3 2 3 2 0 0 4 2 5 2\n",
      " 5 0 1 0 3 0 2 4 1 3 4 3 3 2 4 0 4 3 0 3 3 0 3 0 5 3 1 4 3 6 1 6 3 4 3 3 3\n",
      " 3 1 3 4 2 1 2 4 3 1 3 3 3 3 1 3 3 3 4 3 3 0 6 1 4 0 3 2 3 3 3 3 0 0 0 4 4\n",
      " 3 1 0 3 0 4 2 3 4 4 0 4 4 3 3 3 4 3 5 2 0 3 4 4 3 4 4 3 1 3 3 3 0 2 3 0 2\n",
      " 5 3 0 0 3 3 6 1 3 5 4 3 1 4 3 1 3 3 6 0 3 4 5 2 4 1 3 3 3 3 5 3 1 3 3 4 3\n",
      " 1 0 1 1 3 1 1 1 4 4 2 3 1 1 5 4 3 4 1 4 1 3 3 5 4 0 0 3 5 3 3 1 3 4 0 3 1\n",
      " 0 4 0 3 1 0 1 0 1 3 3 1 1 1 1 1 0 7 1 3 3 5 3 4 2 4 4 1 3 1 3 3 3 3 4 5 3\n",
      " 3 3 3 3 6 3 0 4 3 1 3 0 3 1 1 4 3 0 0 3 5 4 2 5 6 4 4 3 5 3 3 5 3 3 4 0 0\n",
      " 4 4 4 2 3 4 4 4 3 3 4 3 4 4 3 0 4 0 1 4 4 4 4 5 1 1 3 1 3 4 1 1 1 1 1 4 1\n",
      " 1 4 1 1 1 1 1 5 2 2 0 0 2 1]\n"
     ]
    }
   ],
   "source": [
    "#Get the centroids and labels\n",
    "centroids8 = kmeans8.cluster_centers_\n",
    "print(centroids) # centroid\n",
    "\n",
    "label8 = kmeans8.labels_\n",
    "print(label8) #label"
   ]
  },
  {
   "cell_type": "code",
   "execution_count": 35,
   "metadata": {},
   "outputs": [
    {
     "data": {
      "image/png": "[encoded data removed]",
      "text/plain": [
       "<Figure size 432x288 with 1 Axes>"
      ]
     },
     "metadata": {
      "needs_background": "light"
     },
     "output_type": "display_data"
    }
   ],
   "source": [
    "plt.scatter(X_scaled[:,0],X_scaled[:,1], c= kmeans8.labels_.astype(float), cmap='rainbow')\n",
    "plt.scatter(centroids8[:, 0], centroids8[:, 1], c='black', cmap='rainbow')\n",
    "\n",
    "plt.show()"
   ]
  },
  {
   "cell_type": "code",
   "execution_count": 36,
   "metadata": {},
   "outputs": [],
   "source": [
    "np.set_printoptions(precision=4,suppress=True)\n",
    "%matplotlib inline\n",
    "plt.style.use('seaborn-whitegrid')"
   ]
  },
  {
   "cell_type": "code",
   "execution_count": 37,
   "metadata": {},
   "outputs": [
    {
     "data": {
      "image/png": "[encoded data removed]",
      "text/plain": [
       "<Figure size 720x504 with 1 Axes>"
      ]
     },
     "metadata": {},
     "output_type": "display_data"
    }
   ],
   "source": [
    "from scipy.cluster.hierarchy import dendrogram, linkage  \n",
    "from matplotlib import pyplot as plt\n",
    "\n",
    "linked = linkage(X_scaled, 'ward')\n",
    "\n",
    "\n",
    "plt.figure(figsize=(10, 7))  \n",
    "dendrogram(linked,  \n",
    "            orientation='top',\n",
    "            truncate_mode='lastp',p=12,leaf_rotation=45,leaf_font_size=15,show_contracted = True,\n",
    "            distance_sort='descending',\n",
    "            show_leaf_counts=True)\n",
    "plt.title('Hierarchical Clustering Dendrogram')\n",
    "plt.xlabel('sample index')\n",
    "plt.ylabel('distance (average)')\n",
    "plt.show()  "
   ]
  },
  {
   "cell_type": "code",
   "execution_count": 38,
   "metadata": {},
   "outputs": [
    {
     "data": {
      "text/plain": [
       "0.8804920913884007"
      ]
     },
     "execution_count": 38,
     "metadata": {},
     "output_type": "execute_result"
    }
   ],
   "source": [
    "k=2\n",
    "cluster = AgglomerativeClustering(n_clusters=k, affinity='euclidean', linkage='ward')  \n",
    "cluster.fit_predict(X_scaled)  \n",
    "sm.accuracy_score(y,cluster.labels_)"
   ]
  },
  {
   "cell_type": "code",
   "execution_count": 39,
   "metadata": {},
   "outputs": [
    {
     "data": {
      "text/plain": [
       "0.36906854130052724"
      ]
     },
     "execution_count": 39,
     "metadata": {},
     "output_type": "execute_result"
    }
   ],
   "source": [
    "k=2\n",
    "cluster = AgglomerativeClustering(n_clusters=k, affinity='euclidean', linkage='complete')  \n",
    "cluster.fit_predict(X_scaled)  \n",
    "sm.accuracy_score(y,cluster.labels_)"
   ]
  },
  {
   "cell_type": "code",
   "execution_count": 40,
   "metadata": {},
   "outputs": [
    {
     "data": {
      "text/plain": [
       "0.36731107205623903"
      ]
     },
     "execution_count": 40,
     "metadata": {},
     "output_type": "execute_result"
    }
   ],
   "source": [
    "k=2\n",
    "cluster = AgglomerativeClustering(n_clusters=k, affinity='euclidean', linkage='average')  \n",
    "cluster.fit_predict(X_scaled)  \n",
    "sm.accuracy_score(y,cluster.labels_)"
   ]
  },
  {
   "cell_type": "code",
   "execution_count": 41,
   "metadata": {},
   "outputs": [
    {
     "data": {
      "text/plain": [
       "0.1282952548330404"
      ]
     },
     "execution_count": 41,
     "metadata": {},
     "output_type": "execute_result"
    }
   ],
   "source": [
    "k=2\n",
    "cluster = AgglomerativeClustering(n_clusters=k, affinity='manhattan', linkage='complete')  \n",
    "cluster.fit_predict(X_scaled)  \n",
    "sm.accuracy_score(y,cluster.labels_)"
   ]
  },
  {
   "cell_type": "code",
   "execution_count": 42,
   "metadata": {},
   "outputs": [
    {
     "data": {
      "text/plain": [
       "0.36906854130052724"
      ]
     },
     "execution_count": 42,
     "metadata": {},
     "output_type": "execute_result"
    }
   ],
   "source": [
    "k=2\n",
    "cluster = AgglomerativeClustering(n_clusters=k, affinity='manhattan', linkage='average')  \n",
    "cluster.fit_predict(X_scaled)  \n",
    "sm.accuracy_score(y,cluster.labels_)"
   ]
  },
  {
   "cell_type": "code",
   "execution_count": 43,
   "metadata": {},
   "outputs": [
    {
     "data": {
      "image/png": "[encoded data removed]",
      "text/plain": [
       "<Figure size 432x288 with 1 Axes>"
      ]
     },
     "metadata": {},
     "output_type": "display_data"
    }
   ],
   "source": [
    "plt.scatter(X_scaled[:,0],X_scaled[:,1], c=cluster.labels_, cmap='rainbow') \n",
    "plt.show()"
   ]
  },
  {
   "cell_type": "code",
   "execution_count": 52,
   "metadata": {},
   "outputs": [],
   "source": [
    "# Splitting the dataset into the Training set and Test set\n",
    "from sklearn.model_selection import train_test_split\n",
    "\n",
    "X_train, X_test, y_train, y_test = train_test_split(X_scaled, label, test_size=0.3, random_state=0)  "
   ]
  },
  {
   "cell_type": "code",
   "execution_count": 53,
   "metadata": {},
   "outputs": [],
   "source": [
    "#Apply PCA\n",
    "from sklearn.decomposition import PCA\n",
    "\n",
    "#PCA for all the features\n",
    "pca = PCA()  \n",
    "X_train = pca.fit_transform(X_train)  \n",
    "X_test = pca.transform(X_test)  "
   ]
  },
  {
   "cell_type": "code",
   "execution_count": 54,
   "metadata": {},
   "outputs": [
    {
     "data": {
      "text/plain": [
       "array([0.443 , 0.1926, 0.0966, 0.0658, 0.0534, 0.0402, 0.0222, 0.0144,\n",
       "       0.0136, 0.011 , 0.01  , 0.0088, 0.0073, 0.0049, 0.0031, 0.0025,\n",
       "       0.002 , 0.0017, 0.0015, 0.001 , 0.001 , 0.0008, 0.0007, 0.0006,\n",
       "       0.0005, 0.0003, 0.0002, 0.    , 0.    , 0.    ])"
      ]
     },
     "execution_count": 54,
     "metadata": {},
     "output_type": "execute_result"
    }
   ],
   "source": [
    "pca.explained_variance_ratio_  "
   ]
  },
  {
   "cell_type": "code",
   "execution_count": 55,
   "metadata": {},
   "outputs": [
    {
     "data": {
      "text/plain": [
       "1.0"
      ]
     },
     "execution_count": 55,
     "metadata": {},
     "output_type": "execute_result"
    }
   ],
   "source": [
    "pca.explained_variance_ratio_.sum()"
   ]
  },
  {
   "cell_type": "code",
   "execution_count": 56,
   "metadata": {},
   "outputs": [
    {
     "data": {
      "image/png": "[encoded data removed]",
      "text/plain": [
       "<Figure size 432x288 with 1 Axes>"
      ]
     },
     "metadata": {},
     "output_type": "display_data"
    }
   ],
   "source": [
    "#Explained variance\n",
    "plt.plot(pca.explained_variance_ratio_)\n",
    "plt.xlabel('number of components')\n",
    "plt.ylabel('cumulative explained variance')\n",
    "plt.show()"
   ]
  },
  {
   "cell_type": "code",
   "execution_count": 57,
   "metadata": {},
   "outputs": [
    {
     "name": "stdout",
     "output_type": "stream",
     "text": [
      "[[107   0]\n",
      " [ 23  41]]\n",
      "Accuracy : 0.8654970760233918\n"
     ]
    },
    {
     "name": "stderr",
     "output_type": "stream",
     "text": [
      "C:\\Users\\Vidhubala\\Anaconda3\\lib\\site-packages\\sklearn\\ensemble\\forest.py:246: FutureWarning: The default value of n_estimators will change from 10 in version 0.20 to 100 in 0.22.\n",
      "  \"10 in version 0.20 to 100 in 0.22.\", FutureWarning)\n"
     ]
    }
   ],
   "source": [
    "\n",
    "#Train and test the model\n",
    "from sklearn.ensemble import RandomForestClassifier\n",
    "\n",
    "classifier = RandomForestClassifier(max_depth=2, random_state=0)  \n",
    "classifier.fit(X_train, y_train)\n",
    "\n",
    "# Predicting the Test set results\n",
    "y_pred = classifier.predict(X_test) \n",
    "\n",
    "\n",
    "from sklearn.metrics import confusion_matrix  \n",
    "from sklearn.metrics import accuracy_score\n",
    "\n",
    "cm = confusion_matrix(y_test, y_pred)  \n",
    "print(cm)  \n",
    "print('Accuracy : ' + str(accuracy_score(y_test, y_pred)) )"
   ]
  },
  {
   "cell_type": "code",
   "execution_count": 58,
   "metadata": {},
   "outputs": [
    {
     "name": "stdout",
     "output_type": "stream",
     "text": [
      "[[107   0]\n",
      " [  4  60]]\n",
      "Accuracy : 0.9766081871345029\n"
     ]
    },
    {
     "name": "stderr",
     "output_type": "stream",
     "text": [
      "C:\\Users\\Vidhubala\\Anaconda3\\lib\\site-packages\\sklearn\\ensemble\\forest.py:246: FutureWarning: The default value of n_estimators will change from 10 in version 0.20 to 100 in 0.22.\n",
      "  \"10 in version 0.20 to 100 in 0.22.\", FutureWarning)\n"
     ]
    }
   ],
   "source": [
    "#Apply PCA for 6 features\n",
    "from sklearn.decomposition import PCA\n",
    "\n",
    "\n",
    "pca = PCA(n_components = 6)  \n",
    "X_train = pca.fit_transform(X_train)  \n",
    "X_test = pca.transform(X_test)  \n",
    "pca.explained_variance_ratio_\n",
    "\n",
    "#Train and test the model\n",
    "from sklearn.ensemble import RandomForestClassifier\n",
    "\n",
    "classifier = RandomForestClassifier(max_depth=2, random_state=0)  \n",
    "classifier.fit(X_train, y_train)\n",
    "\n",
    "# Predicting the Test set results\n",
    "y_pred = classifier.predict(X_test) \n",
    "\n",
    "\n",
    "from sklearn.metrics import confusion_matrix  \n",
    "from sklearn.metrics import accuracy_score\n",
    "\n",
    "cm = confusion_matrix(y_test, y_pred)  \n",
    "print(cm)  \n",
    "print('Accuracy : ' + str(accuracy_score(y_test, y_pred)) )"
   ]
  },
  {
   "cell_type": "code",
   "execution_count": 106,
   "metadata": {},
   "outputs": [
    {
     "name": "stderr",
     "output_type": "stream",
     "text": [
      "C:\\Users\\Vidhubala\\Anaconda3\\lib\\site-packages\\sklearn\\linear_model\\logistic.py:433: FutureWarning: Default solver will be changed to 'lbfgs' in 0.22. Specify a solver to silence this warning.\n",
      "  FutureWarning)\n"
     ]
    }
   ],
   "source": [
    "from   sklearn.linear_model      import LogisticRegression\n",
    "\n",
    "lr=linear_model.LogisticRegression()\n",
    "model=lr.fit(X_scaled,label)"
   ]
  },
  {
   "cell_type": "code",
   "execution_count": 111,
   "metadata": {},
   "outputs": [
    {
     "name": "stdout",
     "output_type": "stream",
     "text": [
      "0.9982425307557118\n"
     ]
    }
   ],
   "source": [
    "print(model.score(X_scaled,label))"
   ]
  },
  {
   "cell_type": "code",
   "execution_count": 108,
   "metadata": {},
   "outputs": [
    {
     "name": "stderr",
     "output_type": "stream",
     "text": [
      "C:\\Users\\Vidhubala\\Anaconda3\\lib\\site-packages\\sklearn\\linear_model\\logistic.py:433: FutureWarning: Default solver will be changed to 'lbfgs' in 0.22. Specify a solver to silence this warning.\n",
      "  FutureWarning)\n"
     ]
    }
   ],
   "source": [
    "lr = linear_model.LogisticRegression()\n",
    "model3 = lr.fit(X_train,y_train)\n",
    "y_test_predict = model3.predict(X_test)\n",
    "y_train_predict = model3.predict(X_train)"
   ]
  },
  {
   "cell_type": "code",
   "execution_count": 109,
   "metadata": {},
   "outputs": [
    {
     "data": {
      "text/plain": [
       "0.9974874371859297"
      ]
     },
     "execution_count": 109,
     "metadata": {},
     "output_type": "execute_result"
    }
   ],
   "source": [
    "accuracy_score(y_train, y_train_predict)"
   ]
  },
  {
   "cell_type": "code",
   "execution_count": 110,
   "metadata": {},
   "outputs": [
    {
     "data": {
      "text/plain": [
       "1.0"
      ]
     },
     "execution_count": 110,
     "metadata": {},
     "output_type": "execute_result"
    }
   ],
   "source": [
    "accuracy_score(y_test, y_test_predict)"
   ]
  },
  {
   "cell_type": "code",
   "execution_count": 64,
   "metadata": {},
   "outputs": [
    {
     "data": {
      "text/plain": [
       "KNeighborsClassifier(algorithm='auto', leaf_size=30, metric='minkowski',\n",
       "           metric_params=None, n_jobs=None, n_neighbors=3, p=2,\n",
       "           weights='uniform')"
      ]
     },
     "execution_count": 64,
     "metadata": {},
     "output_type": "execute_result"
    }
   ],
   "source": [
    "#Build the mdoel on the train set# KNN - fit the model with k=3\n",
    "from sklearn.neighbors import KNeighborsClassifier\n",
    "\n",
    "knn = KNeighborsClassifier(n_neighbors = 3)\n",
    "knn.fit(X_train,y_train)"
   ]
  },
  {
   "cell_type": "code",
   "execution_count": 65,
   "metadata": {},
   "outputs": [
    {
     "name": "stdout",
     "output_type": "stream",
     "text": [
      "With KNN (K=3) accuracy is:  0.9649122807017544\n"
     ]
    }
   ],
   "source": [
    "prediction = knn.predict(X_test)\n",
    "print('With KNN (K=3) accuracy is: ',knn.score(X_test,y_test)) # accuracy"
   ]
  },
  {
   "cell_type": "code",
   "execution_count": 66,
   "metadata": {},
   "outputs": [],
   "source": [
    "# Model complexity\n",
    "neig = np.arange(1, 25)\n",
    "train_accuracy = []\n",
    "test_accuracy = []\n",
    "# Loop over different values of k\n",
    "for i, k in enumerate(neig):\n",
    "    # k from 1 to 25(exclude)\n",
    "    knn = KNeighborsClassifier(n_neighbors=k)\n",
    "    # Fit with knn\n",
    "    knn.fit(X_train,y_train)\n",
    "    #train accuracy\n",
    "    train_accuracy.append(knn.score(X_train, y_train))\n",
    "    # test accuracy\n",
    "    test_accuracy.append(knn.score(X_test, y_test))"
   ]
  },
  {
   "cell_type": "code",
   "execution_count": 67,
   "metadata": {},
   "outputs": [
    {
     "data": {
      "image/png": "[encoded data removed]",
      "text/plain": [
       "<Figure size 936x576 with 1 Axes>"
      ]
     },
     "metadata": {},
     "output_type": "display_data"
    },
    {
     "name": "stdout",
     "output_type": "stream",
     "text": [
      "Best accuracy is 0.9649122807017544 with K = 3\n"
     ]
    }
   ],
   "source": [
    "# Plot\n",
    "plt.figure(figsize=[13,8])\n",
    "plt.plot(neig, test_accuracy, label = 'Testing Accuracy')\n",
    "plt.plot(neig, train_accuracy, label = 'Training Accuracy')\n",
    "plt.legend()\n",
    "plt.title('Value VS Accuracy',fontsize=20)\n",
    "plt.xlabel('Number of Neighbors',fontsize=20)\n",
    "plt.ylabel('Accuracy',fontsize=20)\n",
    "plt.xticks(neig)\n",
    "plt.grid()\n",
    "plt.show()\n",
    "print(\"Best accuracy is {} with K = {}\".format(np.max(test_accuracy),1+test_accuracy.index(np.max(test_accuracy))))"
   ]
  },
  {
   "cell_type": "code",
   "execution_count": 68,
   "metadata": {},
   "outputs": [
    {
     "data": {
      "text/plain": [
       "KNeighborsClassifier(algorithm='auto', leaf_size=30, metric='minkowski',\n",
       "           metric_params=None, n_jobs=None, n_neighbors=7, p=2,\n",
       "           weights='uniform')"
      ]
     },
     "execution_count": 68,
     "metadata": {},
     "output_type": "execute_result"
    }
   ],
   "source": [
    "#Build the mdoel on the train set# KNN - fit the model with k=3\n",
    "from sklearn.neighbors import KNeighborsClassifier\n",
    "\n",
    "knn = KNeighborsClassifier(n_neighbors = 7)\n",
    "knn.fit(X_train,y_train)"
   ]
  },
  {
   "cell_type": "code",
   "execution_count": 69,
   "metadata": {},
   "outputs": [
    {
     "name": "stdout",
     "output_type": "stream",
     "text": [
      "With KNN (K=1) accuracy is:  0.9590643274853801\n"
     ]
    }
   ],
   "source": [
    "prediction = knn.predict(X_test)\n",
    "print('With KNN (K=1) accuracy is: ',knn.score(X_test,y_test)) # accuracy"
   ]
  },
  {
   "cell_type": "code",
   "execution_count": 70,
   "metadata": {},
   "outputs": [],
   "source": [
    "from sklearn.tree import DecisionTreeClassifier"
   ]
  },
  {
   "cell_type": "code",
   "execution_count": 71,
   "metadata": {},
   "outputs": [],
   "source": [
    "model_gini=DecisionTreeClassifier()"
   ]
  },
  {
   "cell_type": "code",
   "execution_count": 72,
   "metadata": {},
   "outputs": [
    {
     "data": {
      "text/plain": [
       "DecisionTreeClassifier(class_weight=None, criterion='gini', max_depth=None,\n",
       "            max_features=None, max_leaf_nodes=None,\n",
       "            min_impurity_decrease=0.0, min_impurity_split=None,\n",
       "            min_samples_leaf=1, min_samples_split=2,\n",
       "            min_weight_fraction_leaf=0.0, presort=False, random_state=None,\n",
       "            splitter='best')"
      ]
     },
     "execution_count": 72,
     "metadata": {},
     "output_type": "execute_result"
    }
   ],
   "source": [
    "model_gini.fit(X_train, y_train)\n"
   ]
  },
  {
   "cell_type": "code",
   "execution_count": 73,
   "metadata": {},
   "outputs": [],
   "source": [
    "preds_gini = model_gini.predict(X_test)"
   ]
  },
  {
   "cell_type": "code",
   "execution_count": 74,
   "metadata": {},
   "outputs": [
    {
     "name": "stdout",
     "output_type": "stream",
     "text": [
      "confusion matrix = \n",
      " [[106   1]\n",
      " [  2  62]]\n"
     ]
    }
   ],
   "source": [
    "#Confusion matrix\n",
    "from sklearn.metrics import classification_report,confusion_matrix\n",
    "mat_gini = confusion_matrix(y_test,preds_gini)\n",
    "\n",
    "print(\"confusion matrix = \\n\",mat_gini)"
   ]
  },
  {
   "cell_type": "code",
   "execution_count": 75,
   "metadata": {},
   "outputs": [
    {
     "name": "stdout",
     "output_type": "stream",
     "text": [
      "0.9824561403508771\n"
     ]
    }
   ],
   "source": [
    "#Calculate accuracy\n",
    "print(accuracy_score(y_test,preds_gini))"
   ]
  },
  {
   "cell_type": "code",
   "execution_count": 112,
   "metadata": {},
   "outputs": [
    {
     "name": "stdout",
     "output_type": "stream",
     "text": [
      "              precision    recall  f1-score   support\n",
      "\n",
      "           0       0.98      0.99      0.99       107\n",
      "           1       0.98      0.97      0.98        64\n",
      "\n",
      "   micro avg       0.98      0.98      0.98       171\n",
      "   macro avg       0.98      0.98      0.98       171\n",
      "weighted avg       0.98      0.98      0.98       171\n",
      "\n"
     ]
    }
   ],
   "source": [
    "print(classification_report(y_test, preds_gini))"
   ]
  },
  {
   "cell_type": "code",
   "execution_count": 76,
   "metadata": {},
   "outputs": [],
   "source": [
    "model_entropy=DecisionTreeClassifier(criterion='entropy')"
   ]
  },
  {
   "cell_type": "code",
   "execution_count": 77,
   "metadata": {},
   "outputs": [
    {
     "data": {
      "text/plain": [
       "DecisionTreeClassifier(class_weight=None, criterion='entropy', max_depth=None,\n",
       "            max_features=None, max_leaf_nodes=None,\n",
       "            min_impurity_decrease=0.0, min_impurity_split=None,\n",
       "            min_samples_leaf=1, min_samples_split=2,\n",
       "            min_weight_fraction_leaf=0.0, presort=False, random_state=None,\n",
       "            splitter='best')"
      ]
     },
     "execution_count": 77,
     "metadata": {},
     "output_type": "execute_result"
    }
   ],
   "source": [
    "model_entropy.fit(X_train, y_train)"
   ]
  },
  {
   "cell_type": "code",
   "execution_count": 78,
   "metadata": {},
   "outputs": [],
   "source": [
    "preds_entropy = model_entropy.predict(X_test)\n",
    "preds_entropy_train = model_entropy.predict(X_train)"
   ]
  },
  {
   "cell_type": "code",
   "execution_count": 79,
   "metadata": {},
   "outputs": [
    {
     "name": "stdout",
     "output_type": "stream",
     "text": [
      "confusion matrix = \n",
      " [[107   0]\n",
      " [  0  64]]\n"
     ]
    }
   ],
   "source": [
    "#Confusion matrix\n",
    "from sklearn.metrics import classification_report,confusion_matrix\n",
    "mat_gini = confusion_matrix(y_test,preds_entropy)\n",
    "\n",
    "print(\"confusion matrix = \\n\",mat_gini)"
   ]
  },
  {
   "cell_type": "code",
   "execution_count": 80,
   "metadata": {},
   "outputs": [
    {
     "name": "stdout",
     "output_type": "stream",
     "text": [
      "1.0\n",
      "1.0\n"
     ]
    }
   ],
   "source": [
    "print(accuracy_score(y_test,preds_entropy))\n",
    "print(accuracy_score(y_train,preds_entropy_train))"
   ]
  },
  {
   "cell_type": "code",
   "execution_count": 81,
   "metadata": {},
   "outputs": [],
   "source": [
    "from sklearn.tree import export_graphviz\n",
    "from sklearn.externals.six import StringIO  \n",
    "from IPython.display import Image  \n",
    "import pydotplus\n",
    "import graphviz"
   ]
  },
  {
   "cell_type": "code",
   "execution_count": 82,
   "metadata": {},
   "outputs": [
    {
     "data": {
      "text/plain": [
       "MultiIndex(levels=[['area error', 'compactness error', 'concave points error', 'concavity error', 'fractal dimension error', 'mean area', 'mean compactness', 'mean concave points', 'mean concavity', 'mean fractal dimension', 'mean perimeter', 'mean radius', 'mean smoothness', 'mean symmetry', 'mean texture', 'perimeter error', 'radius error', 'smoothness error', 'symmetry error', 'texture error', 'worst area', 'worst compactness', 'worst concave points', 'worst concavity', 'worst fractal dimension', 'worst perimeter', 'worst radius', 'worst smoothness', 'worst symmetry', 'worst texture']],\n",
       "           labels=[[11, 14, 10, 5, 12, 6, 8, 7, 13, 9, 16, 19, 15, 0, 17, 1, 3, 2, 18, 4, 26, 29, 25, 20, 27, 21, 23, 22, 28, 24]])"
      ]
     },
     "execution_count": 82,
     "metadata": {},
     "output_type": "execute_result"
    }
   ],
   "source": [
    "feature_cols = x.columns\n",
    "feature_cols"
   ]
  },
  {
   "cell_type": "code",
   "execution_count": 83,
   "metadata": {},
   "outputs": [],
   "source": [
    "classifier = GaussianNB()\n",
    "classifier.fit(X_train, y_train)\n",
    "ypred1=classifier.predict(X_test)"
   ]
  },
  {
   "cell_type": "code",
   "execution_count": 84,
   "metadata": {},
   "outputs": [
    {
     "data": {
      "text/plain": [
       "BernoulliNB(alpha=1, binarize=0.0, class_prior=None, fit_prior=True)"
      ]
     },
     "execution_count": 84,
     "metadata": {},
     "output_type": "execute_result"
    }
   ],
   "source": [
    "from sklearn.naive_bayes import BernoulliNB\n",
    "\n",
    "optimal_alpha = 1\n",
    "NB_optimal = BernoulliNB(alpha=optimal_alpha)\n",
    "\n",
    "# fitting the model\n",
    "NB_optimal.fit(X_train, y_train)"
   ]
  },
  {
   "cell_type": "code",
   "execution_count": 85,
   "metadata": {},
   "outputs": [
    {
     "data": {
      "text/plain": [
       "array([1, 0, 0, 0, 0, 0, 0, 0, 0, 0, 1, 0, 0, 0, 1, 1, 1, 1, 1, 1, 1, 1,\n",
       "       0, 0, 1, 0, 0, 1, 0, 1, 0, 1, 0, 1, 0, 1, 0, 1, 0, 1, 0, 0, 0, 0,\n",
       "       1, 1, 0, 0, 0, 1, 1, 1, 1, 0, 0, 0, 0, 0, 0, 1, 1, 1, 0, 0, 1, 0,\n",
       "       1, 1, 1, 0, 1, 1, 0, 0, 1, 0, 0, 1, 0, 0, 1, 1, 1, 0, 1, 0, 0, 0,\n",
       "       1, 1, 0, 0, 1, 1, 0, 0, 1, 1, 0, 0, 0, 0, 0, 0, 1, 1, 1, 0, 0, 1,\n",
       "       0, 1, 1, 0, 0, 0, 0, 0, 0, 0, 0, 0, 1, 0, 1, 1, 0, 0, 0, 0, 1, 0,\n",
       "       0, 1, 1, 0, 0, 0, 1, 0, 0, 0, 1, 0, 0, 1, 0, 0, 0, 0, 0, 1, 1, 0,\n",
       "       0, 1, 0, 0, 0, 1, 1, 0, 0, 1, 0, 1, 1, 1, 0, 0, 0])"
      ]
     },
     "execution_count": 85,
     "metadata": {},
     "output_type": "execute_result"
    }
   ],
   "source": [
    "y_pred = NB_optimal.predict(X_test)\n",
    "y_pred"
   ]
  },
  {
   "cell_type": "code",
   "execution_count": 86,
   "metadata": {},
   "outputs": [
    {
     "data": {
      "text/plain": [
       "array([[2, 5, 1, 3, 4, 0]], dtype=int64)"
      ]
     },
     "execution_count": 86,
     "metadata": {},
     "output_type": "execute_result"
    }
   ],
   "source": [
    "pos_class_prob_sorted = NB_optimal.coef_.argsort()\n",
    "pos_class_prob_sorted"
   ]
  },
  {
   "cell_type": "code",
   "execution_count": 87,
   "metadata": {},
   "outputs": [
    {
     "data": {
      "text/plain": [
       "array([[-2.2954,  1.1939, -0.6968, -0.7851,  0.1305, -0.2053],\n",
       "       [-3.6293,  0.7093,  0.2974,  0.418 , -0.452 , -1.8495],\n",
       "       [-2.4296, -0.0531, -0.7569, -0.0588, -0.1991,  0.8682],\n",
       "       ...,\n",
       "       [-3.2041,  0.3783,  0.6385,  0.1162, -0.7099, -1.2371],\n",
       "       [-5.602 , -0.8708,  4.0242,  2.6128, -1.1068,  1.7489],\n",
       "       [-1.2816,  1.2794,  1.1831,  3.5963,  1.3057, -1.4518]])"
      ]
     },
     "execution_count": 87,
     "metadata": {},
     "output_type": "execute_result"
    }
   ],
   "source": [
    "X_train"
   ]
  },
  {
   "cell_type": "code",
   "execution_count": 88,
   "metadata": {},
   "outputs": [
    {
     "data": {
      "text/plain": [
       "[(130.0, ('mean radius',)),\n",
       " (66.0, ('mean smoothness',)),\n",
       " (64.0, ('mean area',)),\n",
       " (62.0, ('mean texture',)),\n",
       " (59.0, ('mean compactness',)),\n",
       " (53.0, ('mean perimeter',))]"
      ]
     },
     "execution_count": 88,
     "metadata": {},
     "output_type": "execute_result"
    }
   ],
   "source": [
    "topn_class2 = sorted(zip(NB_optimal.feature_count_[1], x.columns),reverse=True)[:12]\n",
    "topn_class2"
   ]
  },
  {
   "cell_type": "code",
   "execution_count": 89,
   "metadata": {},
   "outputs": [
    {
     "data": {
      "text/plain": [
       "[(137.0, ('mean smoothness',)),\n",
       " (136.0, ('mean perimeter',)),\n",
       " (125.0, ('mean compactness',)),\n",
       " (121.0, ('mean texture',)),\n",
       " (116.0, ('mean area',)),\n",
       " (20.0, ('mean radius',))]"
      ]
     },
     "execution_count": 89,
     "metadata": {},
     "output_type": "execute_result"
    }
   ],
   "source": [
    "topn_class20 = sorted(zip(NB_optimal.feature_count_[0], x.columns),reverse=True)[:12]\n",
    "topn_class20"
   ]
  },
  {
   "cell_type": "code",
   "execution_count": 90,
   "metadata": {},
   "outputs": [
    {
     "data": {
      "text/plain": [
       "array([[102,   5],\n",
       "       [  0,  64]], dtype=int64)"
      ]
     },
     "execution_count": 90,
     "metadata": {},
     "output_type": "execute_result"
    }
   ],
   "source": [
    "# NB optimal\n",
    "cm = confusion_matrix(y_test, y_pred)\n",
    "cm"
   ]
  },
  {
   "cell_type": "code",
   "execution_count": 91,
   "metadata": {},
   "outputs": [
    {
     "name": "stdout",
     "output_type": "stream",
     "text": [
      "0.9707602339181286\n"
     ]
    }
   ],
   "source": [
    "# NB optimal\n",
    "print(accuracy_score(y_test, y_pred))"
   ]
  },
  {
   "cell_type": "code",
   "execution_count": 92,
   "metadata": {},
   "outputs": [
    {
     "data": {
      "text/plain": [
       "array([[105,   2],\n",
       "       [  1,  63]], dtype=int64)"
      ]
     },
     "execution_count": 92,
     "metadata": {},
     "output_type": "execute_result"
    }
   ],
   "source": [
    "#Gaussian\n",
    "cm1=confusion_matrix(y_test,ypred1)\n",
    "cm1"
   ]
  },
  {
   "cell_type": "code",
   "execution_count": 93,
   "metadata": {},
   "outputs": [
    {
     "name": "stdout",
     "output_type": "stream",
     "text": [
      "0.9824561403508771\n"
     ]
    }
   ],
   "source": [
    "# Gaussian\n",
    "print(accuracy_score(y_test, ypred1))"
   ]
  },
  {
   "cell_type": "code",
   "execution_count": 94,
   "metadata": {},
   "outputs": [
    {
     "name": "stdout",
     "output_type": "stream",
     "text": [
      "Accuracy: 1.0\n"
     ]
    }
   ],
   "source": [
    "from sklearn import svm\n",
    "\n",
    "#Create a svm Classifier\n",
    "clf = svm.SVC(kernel='linear') # Linear Kernel\n",
    "\n",
    "#Train the model using the training sets\n",
    "clf.fit(X_train, y_train)\n",
    "#Predict the response for test dataset\n",
    "y_pred_svm = clf.predict(X_test)\n",
    "print(\"Accuracy:\",metrics.accuracy_score(y_test, y_pred_svm))"
   ]
  },
  {
   "cell_type": "code",
   "execution_count": 95,
   "metadata": {},
   "outputs": [
    {
     "name": "stdout",
     "output_type": "stream",
     "text": [
      "Accuracy: 0.9824561403508771\n"
     ]
    },
    {
     "name": "stderr",
     "output_type": "stream",
     "text": [
      "C:\\Users\\Vidhubala\\Anaconda3\\lib\\site-packages\\sklearn\\svm\\base.py:196: FutureWarning: The default value of gamma will change from 'auto' to 'scale' in version 0.22 to account better for unscaled features. Set gamma explicitly to 'auto' or 'scale' to avoid this warning.\n",
      "  \"avoid this warning.\", FutureWarning)\n"
     ]
    }
   ],
   "source": [
    "from sklearn import svm\n",
    "\n",
    "#Create a svm Classifier\n",
    "clf = svm.SVC(kernel='rbf') # Linear Kernel\n",
    "\n",
    "#Train the model using the training sets\n",
    "clf.fit(X_train, y_train)\n",
    "#Predict the response for test dataset\n",
    "y_pred_svm = clf.predict(X_test)\n",
    "print(\"Accuracy:\",metrics.accuracy_score(y_test, y_pred_svm))"
   ]
  },
  {
   "cell_type": "code",
   "execution_count": 96,
   "metadata": {},
   "outputs": [
    {
     "name": "stdout",
     "output_type": "stream",
     "text": [
      "Accuracy: 0.9590643274853801\n"
     ]
    },
    {
     "name": "stderr",
     "output_type": "stream",
     "text": [
      "C:\\Users\\Vidhubala\\Anaconda3\\lib\\site-packages\\sklearn\\svm\\base.py:196: FutureWarning: The default value of gamma will change from 'auto' to 'scale' in version 0.22 to account better for unscaled features. Set gamma explicitly to 'auto' or 'scale' to avoid this warning.\n",
      "  \"avoid this warning.\", FutureWarning)\n"
     ]
    }
   ],
   "source": [
    "from sklearn import svm\n",
    "\n",
    "#Create a svm Classifier\n",
    "clf = svm.SVC(kernel='poly') # Linear Kernel\n",
    "\n",
    "#Train the model using the training sets\n",
    "clf.fit(X_train, y_train)\n",
    "#Predict the response for test dataset\n",
    "y_pred_svm = clf.predict(X_test)\n",
    "print(\"Accuracy:\",metrics.accuracy_score(y_test, y_pred_svm))"
   ]
  },
  {
   "cell_type": "code",
   "execution_count": 97,
   "metadata": {},
   "outputs": [
    {
     "name": "stdout",
     "output_type": "stream",
     "text": [
      "Accuracy: 0.9181286549707602\n"
     ]
    },
    {
     "name": "stderr",
     "output_type": "stream",
     "text": [
      "C:\\Users\\Vidhubala\\Anaconda3\\lib\\site-packages\\sklearn\\svm\\base.py:196: FutureWarning: The default value of gamma will change from 'auto' to 'scale' in version 0.22 to account better for unscaled features. Set gamma explicitly to 'auto' or 'scale' to avoid this warning.\n",
      "  \"avoid this warning.\", FutureWarning)\n"
     ]
    }
   ],
   "source": [
    "from sklearn import svm\n",
    "\n",
    "#Create a svm Classifier\n",
    "clf = svm.SVC(kernel='sigmoid') # Linear Kernel\n",
    "\n",
    "#Train the model using the training sets\n",
    "clf.fit(X_train, y_train)\n",
    "#Predict the response for test dataset\n",
    "y_pred_svm = clf.predict(X_test)\n",
    "print(\"Accuracy:\",metrics.accuracy_score(y_test, y_pred_svm))"
   ]
  },
  {
   "cell_type": "code",
   "execution_count": 98,
   "metadata": {},
   "outputs": [],
   "source": [
    "from sklearn.neural_network import MLPClassifier"
   ]
  },
  {
   "cell_type": "code",
   "execution_count": 99,
   "metadata": {},
   "outputs": [],
   "source": [
    "clf = MLPClassifier(hidden_layer_sizes=(100,100,100), max_iter=500, alpha=0.0001,\n",
    "                     solver='sgd', verbose=10,  random_state=21,tol=0.000000001)"
   ]
  },
  {
   "cell_type": "code",
   "execution_count": 100,
   "metadata": {},
   "outputs": [
    {
     "name": "stdout",
     "output_type": "stream",
     "text": [
      "Iteration 1, loss = 0.60749460\n",
      "Iteration 2, loss = 0.60296486\n",
      "Iteration 3, loss = 0.59616230\n",
      "Iteration 4, loss = 0.58769248\n",
      "Iteration 5, loss = 0.57781158\n",
      "Iteration 6, loss = 0.56698559\n",
      "Iteration 7, loss = 0.55552152\n",
      "Iteration 8, loss = 0.54347260\n",
      "Iteration 9, loss = 0.53150601\n",
      "Iteration 10, loss = 0.51909739\n",
      "Iteration 11, loss = 0.50676414\n",
      "Iteration 12, loss = 0.49456030\n",
      "Iteration 13, loss = 0.48255125\n",
      "Iteration 14, loss = 0.47071083\n",
      "Iteration 15, loss = 0.45912367\n",
      "Iteration 16, loss = 0.44775908\n",
      "Iteration 17, loss = 0.43673299\n",
      "Iteration 18, loss = 0.42589460\n",
      "Iteration 19, loss = 0.41535106\n",
      "Iteration 20, loss = 0.40531451\n",
      "Iteration 21, loss = 0.39528737\n",
      "Iteration 22, loss = 0.38571667\n",
      "Iteration 23, loss = 0.37643620\n",
      "Iteration 24, loss = 0.36727589\n",
      "Iteration 25, loss = 0.35854272\n",
      "Iteration 26, loss = 0.34994076\n",
      "Iteration 27, loss = 0.34175188\n",
      "Iteration 28, loss = 0.33367821\n",
      "Iteration 29, loss = 0.32593030\n",
      "Iteration 30, loss = 0.31843466\n",
      "Iteration 31, loss = 0.31109426\n",
      "Iteration 32, loss = 0.30403263\n",
      "Iteration 33, loss = 0.29717642\n",
      "Iteration 34, loss = 0.29058656\n",
      "Iteration 35, loss = 0.28414331\n",
      "Iteration 36, loss = 0.27791542\n",
      "Iteration 37, loss = 0.27190827\n",
      "Iteration 38, loss = 0.26613309\n",
      "Iteration 39, loss = 0.26054842\n",
      "Iteration 40, loss = 0.25501327\n",
      "Iteration 41, loss = 0.24975280\n",
      "Iteration 42, loss = 0.24469999\n",
      "Iteration 43, loss = 0.23975989\n",
      "Iteration 44, loss = 0.23499922\n",
      "Iteration 45, loss = 0.23037004\n",
      "Iteration 46, loss = 0.22589025\n",
      "Iteration 47, loss = 0.22153805\n",
      "Iteration 48, loss = 0.21735776\n",
      "Iteration 49, loss = 0.21334103\n",
      "Iteration 50, loss = 0.20939506\n",
      "Iteration 51, loss = 0.20557866\n",
      "Iteration 52, loss = 0.20193145\n",
      "Iteration 53, loss = 0.19832408\n",
      "Iteration 54, loss = 0.19491195\n",
      "Iteration 55, loss = 0.19154086\n",
      "Iteration 56, loss = 0.18828583\n",
      "Iteration 57, loss = 0.18512952\n",
      "Iteration 58, loss = 0.18205971\n",
      "Iteration 59, loss = 0.17911244\n",
      "Iteration 60, loss = 0.17625500\n",
      "Iteration 61, loss = 0.17343708\n",
      "Iteration 62, loss = 0.17074775\n",
      "Iteration 63, loss = 0.16816379\n",
      "Iteration 64, loss = 0.16557707\n",
      "Iteration 65, loss = 0.16310338\n",
      "Iteration 66, loss = 0.16069043\n",
      "Iteration 67, loss = 0.15837185\n",
      "Iteration 68, loss = 0.15606217\n",
      "Iteration 69, loss = 0.15385325\n",
      "Iteration 70, loss = 0.15173815\n",
      "Iteration 71, loss = 0.14964006\n",
      "Iteration 72, loss = 0.14760246\n",
      "Iteration 73, loss = 0.14563238\n",
      "Iteration 74, loss = 0.14369782\n",
      "Iteration 75, loss = 0.14183912\n",
      "Iteration 76, loss = 0.14002345\n",
      "Iteration 77, loss = 0.13825193\n",
      "Iteration 78, loss = 0.13651532\n",
      "Iteration 79, loss = 0.13484205\n",
      "Iteration 80, loss = 0.13321334\n",
      "Iteration 81, loss = 0.13159626\n",
      "Iteration 82, loss = 0.13002520\n",
      "Iteration 83, loss = 0.12852695\n",
      "Iteration 84, loss = 0.12702395\n",
      "Iteration 85, loss = 0.12556485\n",
      "Iteration 86, loss = 0.12415671\n",
      "Iteration 87, loss = 0.12279519\n",
      "Iteration 88, loss = 0.12143744\n",
      "Iteration 89, loss = 0.12013300\n",
      "Iteration 90, loss = 0.11881915\n",
      "Iteration 91, loss = 0.11756416\n",
      "Iteration 92, loss = 0.11633008\n",
      "Iteration 93, loss = 0.11509129\n",
      "Iteration 94, loss = 0.11391895\n",
      "Iteration 95, loss = 0.11279118\n",
      "Iteration 96, loss = 0.11164800\n",
      "Iteration 97, loss = 0.11054041\n",
      "Iteration 98, loss = 0.10944089\n",
      "Iteration 99, loss = 0.10839950\n",
      "Iteration 100, loss = 0.10734866\n",
      "Iteration 101, loss = 0.10635928\n",
      "Iteration 102, loss = 0.10534994\n",
      "Iteration 103, loss = 0.10437777\n",
      "Iteration 104, loss = 0.10342573\n",
      "Iteration 105, loss = 0.10246959\n",
      "Iteration 106, loss = 0.10155450\n",
      "Iteration 107, loss = 0.10066137\n",
      "Iteration 108, loss = 0.09977623\n",
      "Iteration 109, loss = 0.09888119\n",
      "Iteration 110, loss = 0.09805219\n",
      "Iteration 111, loss = 0.09720321\n",
      "Iteration 112, loss = 0.09637340\n",
      "Iteration 113, loss = 0.09559230\n",
      "Iteration 114, loss = 0.09476696\n",
      "Iteration 115, loss = 0.09399426\n",
      "Iteration 116, loss = 0.09323194\n",
      "Iteration 117, loss = 0.09247575\n",
      "Iteration 118, loss = 0.09172152\n",
      "Iteration 119, loss = 0.09098039\n",
      "Iteration 120, loss = 0.09027118\n",
      "Iteration 121, loss = 0.08957732\n",
      "Iteration 122, loss = 0.08887186\n",
      "Iteration 123, loss = 0.08819040\n",
      "Iteration 124, loss = 0.08750956\n",
      "Iteration 125, loss = 0.08686219\n",
      "Iteration 126, loss = 0.08619568\n",
      "Iteration 127, loss = 0.08555304\n",
      "Iteration 128, loss = 0.08491919\n",
      "Iteration 129, loss = 0.08429753\n",
      "Iteration 130, loss = 0.08368954\n",
      "Iteration 131, loss = 0.08310279\n",
      "Iteration 132, loss = 0.08251051\n",
      "Iteration 133, loss = 0.08190327\n",
      "Iteration 134, loss = 0.08134028\n",
      "Iteration 135, loss = 0.08076957\n",
      "Iteration 136, loss = 0.08020474\n",
      "Iteration 137, loss = 0.07965389\n",
      "Iteration 138, loss = 0.07912068\n",
      "Iteration 139, loss = 0.07858088\n",
      "Iteration 140, loss = 0.07805891\n",
      "Iteration 141, loss = 0.07753226\n",
      "Iteration 142, loss = 0.07703155\n",
      "Iteration 143, loss = 0.07650865\n",
      "Iteration 144, loss = 0.07601639\n",
      "Iteration 145, loss = 0.07553426\n",
      "Iteration 146, loss = 0.07503133\n",
      "Iteration 147, loss = 0.07455604\n",
      "Iteration 148, loss = 0.07408059\n",
      "Iteration 149, loss = 0.07361142\n",
      "Iteration 150, loss = 0.07315611\n",
      "Iteration 151, loss = 0.07269073\n",
      "Iteration 152, loss = 0.07224788\n",
      "Iteration 153, loss = 0.07179968\n",
      "Iteration 154, loss = 0.07135754\n",
      "Iteration 155, loss = 0.07092694\n",
      "Iteration 156, loss = 0.07048962\n",
      "Iteration 157, loss = 0.07005541\n",
      "Iteration 158, loss = 0.06963091\n",
      "Iteration 159, loss = 0.06923866\n",
      "Iteration 160, loss = 0.06880837\n",
      "Iteration 161, loss = 0.06842016\n",
      "Iteration 162, loss = 0.06801744\n",
      "Iteration 163, loss = 0.06761070\n",
      "Iteration 164, loss = 0.06723074\n",
      "Iteration 165, loss = 0.06684603\n",
      "Iteration 166, loss = 0.06645365\n",
      "Iteration 167, loss = 0.06606983\n",
      "Iteration 168, loss = 0.06571252\n",
      "Iteration 169, loss = 0.06532499\n",
      "Iteration 170, loss = 0.06496370\n",
      "Iteration 171, loss = 0.06460719\n",
      "Iteration 172, loss = 0.06425304\n",
      "Iteration 173, loss = 0.06388116\n",
      "Iteration 174, loss = 0.06353825\n",
      "Iteration 175, loss = 0.06319071\n",
      "Iteration 176, loss = 0.06284995\n",
      "Iteration 177, loss = 0.06251785\n",
      "Iteration 178, loss = 0.06217284\n",
      "Iteration 179, loss = 0.06183702\n",
      "Iteration 180, loss = 0.06151890\n",
      "Iteration 181, loss = 0.06119139\n",
      "Iteration 182, loss = 0.06086430\n",
      "Iteration 183, loss = 0.06055520\n",
      "Iteration 184, loss = 0.06022817\n",
      "Iteration 185, loss = 0.05992428\n",
      "Iteration 186, loss = 0.05961365\n",
      "Iteration 187, loss = 0.05931749\n",
      "Iteration 188, loss = 0.05901413\n",
      "Iteration 189, loss = 0.05870853\n",
      "Iteration 190, loss = 0.05840939\n",
      "Iteration 191, loss = 0.05811749\n",
      "Iteration 192, loss = 0.05782377\n",
      "Iteration 193, loss = 0.05753212\n",
      "Iteration 194, loss = 0.05726823\n",
      "Iteration 195, loss = 0.05696597\n",
      "Iteration 196, loss = 0.05669522\n",
      "Iteration 197, loss = 0.05641941\n",
      "Iteration 198, loss = 0.05614860\n",
      "Iteration 199, loss = 0.05587649\n",
      "Iteration 200, loss = 0.05559474\n",
      "Iteration 201, loss = 0.05532380\n",
      "Iteration 202, loss = 0.05506305\n",
      "Iteration 203, loss = 0.05480000\n",
      "Iteration 204, loss = 0.05455102\n",
      "Iteration 205, loss = 0.05429002\n",
      "Iteration 206, loss = 0.05402554\n",
      "Iteration 207, loss = 0.05378160\n",
      "Iteration 208, loss = 0.05354537\n",
      "Iteration 209, loss = 0.05328197\n",
      "Iteration 210, loss = 0.05303183\n",
      "Iteration 211, loss = 0.05279136\n",
      "Iteration 212, loss = 0.05253957\n",
      "Iteration 213, loss = 0.05231248\n",
      "Iteration 214, loss = 0.05207341\n",
      "Iteration 215, loss = 0.05182491\n",
      "Iteration 216, loss = 0.05160613\n",
      "Iteration 217, loss = 0.05137058\n",
      "Iteration 218, loss = 0.05113178\n",
      "Iteration 219, loss = 0.05090495\n",
      "Iteration 220, loss = 0.05068314\n",
      "Iteration 221, loss = 0.05045974\n",
      "Iteration 222, loss = 0.05023349\n",
      "Iteration 223, loss = 0.05001320\n",
      "Iteration 224, loss = 0.04979161\n",
      "Iteration 225, loss = 0.04958460\n",
      "Iteration 226, loss = 0.04935534\n",
      "Iteration 227, loss = 0.04914079\n",
      "Iteration 228, loss = 0.04893098\n",
      "Iteration 229, loss = 0.04872366\n",
      "Iteration 230, loss = 0.04850740\n",
      "Iteration 231, loss = 0.04830248\n",
      "Iteration 232, loss = 0.04810697\n",
      "Iteration 233, loss = 0.04789954\n",
      "Iteration 234, loss = 0.04768803\n",
      "Iteration 235, loss = 0.04749413\n",
      "Iteration 236, loss = 0.04729760\n",
      "Iteration 237, loss = 0.04709398\n",
      "Iteration 238, loss = 0.04689144\n",
      "Iteration 239, loss = 0.04669896\n",
      "Iteration 240, loss = 0.04650987\n",
      "Iteration 241, loss = 0.04631392\n",
      "Iteration 242, loss = 0.04612113\n",
      "Iteration 243, loss = 0.04594117\n",
      "Iteration 244, loss = 0.04574990\n",
      "Iteration 245, loss = 0.04555450\n",
      "Iteration 246, loss = 0.04537372\n",
      "Iteration 247, loss = 0.04519498\n",
      "Iteration 248, loss = 0.04501024\n",
      "Iteration 249, loss = 0.04483116\n",
      "Iteration 250, loss = 0.04465357\n",
      "Iteration 251, loss = 0.04446790\n",
      "Iteration 252, loss = 0.04428537\n",
      "Iteration 253, loss = 0.04412164\n",
      "Iteration 254, loss = 0.04395238\n",
      "Iteration 255, loss = 0.04377201\n",
      "Iteration 256, loss = 0.04360511\n"
     ]
    },
    {
     "name": "stdout",
     "output_type": "stream",
     "text": [
      "Iteration 257, loss = 0.04343001\n",
      "Iteration 258, loss = 0.04326458\n",
      "Iteration 259, loss = 0.04308494\n",
      "Iteration 260, loss = 0.04293045\n",
      "Iteration 261, loss = 0.04276123\n",
      "Iteration 262, loss = 0.04260127\n",
      "Iteration 263, loss = 0.04242912\n",
      "Iteration 264, loss = 0.04227094\n",
      "Iteration 265, loss = 0.04211296\n",
      "Iteration 266, loss = 0.04194798\n",
      "Iteration 267, loss = 0.04179350\n",
      "Iteration 268, loss = 0.04163690\n",
      "Iteration 269, loss = 0.04148418\n",
      "Iteration 270, loss = 0.04132538\n",
      "Iteration 271, loss = 0.04117764\n",
      "Iteration 272, loss = 0.04102035\n",
      "Iteration 273, loss = 0.04086975\n",
      "Iteration 274, loss = 0.04071971\n",
      "Iteration 275, loss = 0.04056607\n",
      "Iteration 276, loss = 0.04042810\n",
      "Iteration 277, loss = 0.04028031\n",
      "Iteration 278, loss = 0.04013361\n",
      "Iteration 279, loss = 0.03998572\n",
      "Iteration 280, loss = 0.03985288\n",
      "Iteration 281, loss = 0.03969815\n",
      "Iteration 282, loss = 0.03955819\n",
      "Iteration 283, loss = 0.03942308\n",
      "Iteration 284, loss = 0.03928033\n",
      "Iteration 285, loss = 0.03913906\n",
      "Iteration 286, loss = 0.03900615\n",
      "Iteration 287, loss = 0.03887453\n",
      "Iteration 288, loss = 0.03872996\n",
      "Iteration 289, loss = 0.03859560\n",
      "Iteration 290, loss = 0.03846173\n",
      "Iteration 291, loss = 0.03833969\n",
      "Iteration 292, loss = 0.03819537\n",
      "Iteration 293, loss = 0.03806846\n",
      "Iteration 294, loss = 0.03793607\n",
      "Iteration 295, loss = 0.03780834\n",
      "Iteration 296, loss = 0.03767919\n",
      "Iteration 297, loss = 0.03755285\n",
      "Iteration 298, loss = 0.03742153\n",
      "Iteration 299, loss = 0.03729279\n",
      "Iteration 300, loss = 0.03717018\n",
      "Iteration 301, loss = 0.03704631\n",
      "Iteration 302, loss = 0.03691603\n",
      "Iteration 303, loss = 0.03680178\n",
      "Iteration 304, loss = 0.03667110\n",
      "Iteration 305, loss = 0.03655369\n",
      "Iteration 306, loss = 0.03643613\n",
      "Iteration 307, loss = 0.03631593\n",
      "Iteration 308, loss = 0.03619058\n",
      "Iteration 309, loss = 0.03606501\n",
      "Iteration 310, loss = 0.03594961\n",
      "Iteration 311, loss = 0.03584036\n",
      "Iteration 312, loss = 0.03571708\n",
      "Iteration 313, loss = 0.03560149\n",
      "Iteration 314, loss = 0.03548744\n",
      "Iteration 315, loss = 0.03536464\n",
      "Iteration 316, loss = 0.03525626\n",
      "Iteration 317, loss = 0.03514425\n",
      "Iteration 318, loss = 0.03502330\n",
      "Iteration 319, loss = 0.03491447\n",
      "Iteration 320, loss = 0.03480747\n",
      "Iteration 321, loss = 0.03468880\n",
      "Iteration 322, loss = 0.03458296\n",
      "Iteration 323, loss = 0.03447979\n",
      "Iteration 324, loss = 0.03436532\n",
      "Iteration 325, loss = 0.03425592\n",
      "Iteration 326, loss = 0.03414864\n",
      "Iteration 327, loss = 0.03404024\n",
      "Iteration 328, loss = 0.03393487\n",
      "Iteration 329, loss = 0.03382832\n",
      "Iteration 330, loss = 0.03373153\n",
      "Iteration 331, loss = 0.03361919\n",
      "Iteration 332, loss = 0.03351938\n",
      "Iteration 333, loss = 0.03341642\n",
      "Iteration 334, loss = 0.03331034\n",
      "Iteration 335, loss = 0.03321238\n",
      "Iteration 336, loss = 0.03310606\n",
      "Iteration 337, loss = 0.03300654\n",
      "Iteration 338, loss = 0.03291123\n",
      "Iteration 339, loss = 0.03280702\n",
      "Iteration 340, loss = 0.03270543\n",
      "Iteration 341, loss = 0.03260968\n",
      "Iteration 342, loss = 0.03250956\n",
      "Iteration 343, loss = 0.03241030\n",
      "Iteration 344, loss = 0.03231340\n",
      "Iteration 345, loss = 0.03221721\n",
      "Iteration 346, loss = 0.03212118\n",
      "Iteration 347, loss = 0.03203239\n",
      "Iteration 348, loss = 0.03193464\n",
      "Iteration 349, loss = 0.03184081\n",
      "Iteration 350, loss = 0.03174514\n",
      "Iteration 351, loss = 0.03165382\n",
      "Iteration 352, loss = 0.03155738\n",
      "Iteration 353, loss = 0.03146553\n",
      "Iteration 354, loss = 0.03137406\n",
      "Iteration 355, loss = 0.03128451\n",
      "Iteration 356, loss = 0.03120237\n",
      "Iteration 357, loss = 0.03110798\n",
      "Iteration 358, loss = 0.03101457\n",
      "Iteration 359, loss = 0.03092524\n",
      "Iteration 360, loss = 0.03083925\n",
      "Iteration 361, loss = 0.03075165\n",
      "Iteration 362, loss = 0.03065656\n",
      "Iteration 363, loss = 0.03057827\n",
      "Iteration 364, loss = 0.03049023\n",
      "Iteration 365, loss = 0.03039771\n",
      "Iteration 366, loss = 0.03031792\n",
      "Iteration 367, loss = 0.03023460\n",
      "Iteration 368, loss = 0.03014376\n",
      "Iteration 369, loss = 0.03006078\n",
      "Iteration 370, loss = 0.02998081\n",
      "Iteration 371, loss = 0.02989044\n",
      "Iteration 372, loss = 0.02981054\n",
      "Iteration 373, loss = 0.02972334\n",
      "Iteration 374, loss = 0.02964231\n",
      "Iteration 375, loss = 0.02956237\n",
      "Iteration 376, loss = 0.02947807\n",
      "Iteration 377, loss = 0.02939855\n",
      "Iteration 378, loss = 0.02932039\n",
      "Iteration 379, loss = 0.02924193\n",
      "Iteration 380, loss = 0.02915965\n",
      "Iteration 381, loss = 0.02908004\n",
      "Iteration 382, loss = 0.02900013\n",
      "Iteration 383, loss = 0.02891871\n",
      "Iteration 384, loss = 0.02884075\n",
      "Iteration 385, loss = 0.02876188\n",
      "Iteration 386, loss = 0.02868869\n",
      "Iteration 387, loss = 0.02860691\n",
      "Iteration 388, loss = 0.02853076\n",
      "Iteration 389, loss = 0.02845288\n",
      "Iteration 390, loss = 0.02838220\n",
      "Iteration 391, loss = 0.02830719\n",
      "Iteration 392, loss = 0.02823147\n",
      "Iteration 393, loss = 0.02815085\n",
      "Iteration 394, loss = 0.02807684\n",
      "Iteration 395, loss = 0.02800413\n",
      "Iteration 396, loss = 0.02792972\n",
      "Iteration 397, loss = 0.02785907\n",
      "Iteration 398, loss = 0.02778316\n",
      "Iteration 399, loss = 0.02770925\n",
      "Iteration 400, loss = 0.02763781\n",
      "Iteration 401, loss = 0.02756641\n",
      "Iteration 402, loss = 0.02749560\n",
      "Iteration 403, loss = 0.02742044\n",
      "Iteration 404, loss = 0.02735223\n",
      "Iteration 405, loss = 0.02728079\n",
      "Iteration 406, loss = 0.02721376\n",
      "Iteration 407, loss = 0.02714099\n",
      "Iteration 408, loss = 0.02707389\n",
      "Iteration 409, loss = 0.02699920\n",
      "Iteration 410, loss = 0.02693288\n",
      "Iteration 411, loss = 0.02687475\n",
      "Iteration 412, loss = 0.02679839\n",
      "Iteration 413, loss = 0.02673056\n",
      "Iteration 414, loss = 0.02666558\n",
      "Iteration 415, loss = 0.02659793\n",
      "Iteration 416, loss = 0.02653272\n",
      "Iteration 417, loss = 0.02646873\n",
      "Iteration 418, loss = 0.02639901\n",
      "Iteration 419, loss = 0.02633600\n",
      "Iteration 420, loss = 0.02627090\n",
      "Iteration 421, loss = 0.02620720\n",
      "Iteration 422, loss = 0.02614007\n",
      "Iteration 423, loss = 0.02607751\n",
      "Iteration 424, loss = 0.02601529\n",
      "Iteration 425, loss = 0.02595297\n",
      "Iteration 426, loss = 0.02588637\n",
      "Iteration 427, loss = 0.02582422\n",
      "Iteration 428, loss = 0.02575969\n",
      "Iteration 429, loss = 0.02569867\n",
      "Iteration 430, loss = 0.02563709\n",
      "Iteration 431, loss = 0.02557525\n",
      "Iteration 432, loss = 0.02551440\n",
      "Iteration 433, loss = 0.02545056\n",
      "Iteration 434, loss = 0.02538938\n",
      "Iteration 435, loss = 0.02533029\n",
      "Iteration 436, loss = 0.02527305\n",
      "Iteration 437, loss = 0.02520887\n",
      "Iteration 438, loss = 0.02515195\n",
      "Iteration 439, loss = 0.02508818\n",
      "Iteration 440, loss = 0.02502963\n",
      "Iteration 441, loss = 0.02496822\n",
      "Iteration 442, loss = 0.02491691\n",
      "Iteration 443, loss = 0.02485455\n",
      "Iteration 444, loss = 0.02479202\n",
      "Iteration 445, loss = 0.02473596\n",
      "Iteration 446, loss = 0.02468129\n",
      "Iteration 447, loss = 0.02462086\n",
      "Iteration 448, loss = 0.02456268\n",
      "Iteration 449, loss = 0.02450514\n",
      "Iteration 450, loss = 0.02444715\n",
      "Iteration 451, loss = 0.02438978\n",
      "Iteration 452, loss = 0.02433407\n",
      "Iteration 453, loss = 0.02427968\n",
      "Iteration 454, loss = 0.02422283\n",
      "Iteration 455, loss = 0.02416814\n",
      "Iteration 456, loss = 0.02411095\n",
      "Iteration 457, loss = 0.02405467\n",
      "Iteration 458, loss = 0.02399970\n",
      "Iteration 459, loss = 0.02394665\n",
      "Iteration 460, loss = 0.02388839\n",
      "Iteration 461, loss = 0.02383527\n",
      "Iteration 462, loss = 0.02378235\n",
      "Iteration 463, loss = 0.02372878\n",
      "Iteration 464, loss = 0.02367743\n",
      "Iteration 465, loss = 0.02361721\n",
      "Iteration 466, loss = 0.02357004\n",
      "Iteration 467, loss = 0.02351632\n",
      "Iteration 468, loss = 0.02346451\n",
      "Iteration 469, loss = 0.02340888\n",
      "Iteration 470, loss = 0.02335645\n",
      "Iteration 471, loss = 0.02330081\n",
      "Iteration 472, loss = 0.02325167\n",
      "Iteration 473, loss = 0.02319888\n",
      "Iteration 474, loss = 0.02314806\n",
      "Iteration 475, loss = 0.02309608\n",
      "Iteration 476, loss = 0.02304788\n",
      "Iteration 477, loss = 0.02299305\n",
      "Iteration 478, loss = 0.02294569\n",
      "Iteration 479, loss = 0.02288951\n",
      "Iteration 480, loss = 0.02284273\n",
      "Iteration 481, loss = 0.02279088\n",
      "Iteration 482, loss = 0.02274324\n",
      "Iteration 483, loss = 0.02268949\n",
      "Iteration 484, loss = 0.02264516\n",
      "Iteration 485, loss = 0.02259268\n",
      "Iteration 486, loss = 0.02254361\n",
      "Iteration 487, loss = 0.02249448\n",
      "Iteration 488, loss = 0.02244864\n",
      "Iteration 489, loss = 0.02239883\n",
      "Iteration 490, loss = 0.02234790\n",
      "Iteration 491, loss = 0.02229906\n",
      "Iteration 492, loss = 0.02225183\n",
      "Iteration 493, loss = 0.02220523\n",
      "Iteration 494, loss = 0.02215404\n",
      "Iteration 495, loss = 0.02210857\n",
      "Iteration 496, loss = 0.02206119\n",
      "Iteration 497, loss = 0.02201290\n",
      "Iteration 498, loss = 0.02196917\n",
      "Iteration 499, loss = 0.02192060\n",
      "Iteration 500, loss = 0.02187031\n"
     ]
    },
    {
     "name": "stderr",
     "output_type": "stream",
     "text": [
      "C:\\Users\\Vidhubala\\Anaconda3\\lib\\site-packages\\sklearn\\neural_network\\multilayer_perceptron.py:562: ConvergenceWarning: Stochastic Optimizer: Maximum iterations (500) reached and the optimization hasn't converged yet.\n",
      "  % self.max_iter, ConvergenceWarning)\n"
     ]
    }
   ],
   "source": [
    "clf.fit(X_train, y_train)\n",
    "y_pred = clf.predict(X_test)\n"
   ]
  },
  {
   "cell_type": "code",
   "execution_count": 101,
   "metadata": {},
   "outputs": [
    {
     "data": {
      "text/plain": [
       "0.9941520467836257"
      ]
     },
     "execution_count": 101,
     "metadata": {},
     "output_type": "execute_result"
    }
   ],
   "source": [
    "accuracy_score(y_test, y_pred)"
   ]
  },
  {
   "cell_type": "code",
   "execution_count": 102,
   "metadata": {},
   "outputs": [],
   "source": [
    "# Packages\n",
    "from sklearn.svm import SVC\n",
    "from sklearn.decomposition import PCA\n",
    "from sklearn.preprocessing import StandardScaler\n",
    "from sklearn.linear_model import LogisticRegression\n",
    "from sklearn.metrics import accuracy_score\n",
    "from sklearn.model_selection import train_test_split\n",
    "from sklearn.metrics import confusion_matrix\n",
    "from sklearn.metrics import recall_score, precision_score, f1_score\n",
    "from sklearn.metrics import classification_report, confusion_matrix\n",
    "from sklearn.pipeline import Pipeline\n",
    "from sklearn.pipeline import make_pipeline\n",
    "from sklearn.svm import SVC\n",
    "from sklearn.neighbors import KNeighborsClassifier\n",
    "from sklearn.tree import DecisionTreeClassifier\n",
    "from sklearn.model_selection import cross_validate\n",
    "from sklearn.svm import LinearSVC\n",
    "from sklearn.naive_bayes import MultinomialNB, BernoulliNB\n",
    "from sklearn.model_selection import cross_val_score\n",
    "from sklearn.metrics import accuracy_score, log_loss\n",
    "from sklearn.svm import SVC, LinearSVC, NuSVC\n",
    "from sklearn.tree import DecisionTreeClassifier\n",
    "from sklearn.ensemble import RandomForestClassifier, AdaBoostClassifier, GradientBoostingClassifier\n",
    "from sklearn.naive_bayes import GaussianNB\n",
    "from sklearn.naive_bayes import BernoulliNB\n",
    "from sklearn.neural_network import MLPClassifier\n",
    "from sklearn.discriminant_analysis import LinearDiscriminantAnalysis\n",
    "from sklearn.discriminant_analysis import QuadraticDiscriminantAnalysis\n",
    "\n"
   ]
  },
  {
   "cell_type": "code",
   "execution_count": 103,
   "metadata": {},
   "outputs": [
    {
     "name": "stdout",
     "output_type": "stream",
     "text": [
      "==============================\n",
      "LogisticRegression\n",
      "****Results****\n",
      "Accuracy: 100.0000%\n",
      "==============================\n",
      "DecisionTreeClassifier\n",
      "****Results****\n",
      "Accuracy: 98.2456%\n",
      "==============================\n",
      "DecisionTreeClassifier\n",
      "****Results****\n",
      "Accuracy: 100.0000%\n",
      "==============================\n",
      "SVC\n",
      "****Results****\n",
      "Accuracy: 98.2456%\n",
      "==============================\n",
      "SVC\n",
      "****Results****\n"
     ]
    },
    {
     "name": "stderr",
     "output_type": "stream",
     "text": [
      "C:\\Users\\Vidhubala\\Anaconda3\\lib\\site-packages\\sklearn\\linear_model\\logistic.py:433: FutureWarning: Default solver will be changed to 'lbfgs' in 0.22. Specify a solver to silence this warning.\n",
      "  FutureWarning)\n",
      "C:\\Users\\Vidhubala\\Anaconda3\\lib\\site-packages\\sklearn\\svm\\base.py:196: FutureWarning: The default value of gamma will change from 'auto' to 'scale' in version 0.22 to account better for unscaled features. Set gamma explicitly to 'auto' or 'scale' to avoid this warning.\n",
      "  \"avoid this warning.\", FutureWarning)\n",
      "C:\\Users\\Vidhubala\\Anaconda3\\lib\\site-packages\\sklearn\\svm\\base.py:196: FutureWarning: The default value of gamma will change from 'auto' to 'scale' in version 0.22 to account better for unscaled features. Set gamma explicitly to 'auto' or 'scale' to avoid this warning.\n",
      "  \"avoid this warning.\", FutureWarning)\n",
      "C:\\Users\\Vidhubala\\Anaconda3\\lib\\site-packages\\sklearn\\svm\\base.py:196: FutureWarning: The default value of gamma will change from 'auto' to 'scale' in version 0.22 to account better for unscaled features. Set gamma explicitly to 'auto' or 'scale' to avoid this warning.\n",
      "  \"avoid this warning.\", FutureWarning)\n",
      "C:\\Users\\Vidhubala\\Anaconda3\\lib\\site-packages\\sklearn\\ensemble\\forest.py:246: FutureWarning: The default value of n_estimators will change from 10 in version 0.20 to 100 in 0.22.\n",
      "  \"10 in version 0.20 to 100 in 0.22.\", FutureWarning)\n"
     ]
    },
    {
     "name": "stdout",
     "output_type": "stream",
     "text": [
      "Accuracy: 100.0000%\n",
      "==============================\n",
      "SVC\n",
      "****Results****\n",
      "Accuracy: 95.9064%\n",
      "==============================\n",
      "SVC\n",
      "****Results****\n",
      "Accuracy: 91.8129%\n",
      "==============================\n",
      "GaussianNB\n",
      "****Results****\n",
      "Accuracy: 98.2456%\n",
      "==============================\n",
      "BernoulliNB\n",
      "****Results****\n",
      "Accuracy: 97.0760%\n",
      "==============================\n",
      "KNeighborsClassifier\n",
      "****Results****\n",
      "Accuracy: 95.9064%\n",
      "==============================\n",
      "RandomForestClassifier\n",
      "****Results****\n",
      "Accuracy: 99.4152%\n",
      "==============================\n",
      "AdaBoostClassifier\n",
      "****Results****\n",
      "Accuracy: 99.4152%\n",
      "==============================\n",
      "GradientBoostingClassifier\n",
      "****Results****\n",
      "Accuracy: 98.8304%\n",
      "==============================\n",
      "MLPClassifier\n",
      "****Results****\n",
      "Accuracy: 98.2456%\n",
      "==============================\n"
     ]
    },
    {
     "name": "stderr",
     "output_type": "stream",
     "text": [
      "C:\\Users\\Vidhubala\\Anaconda3\\lib\\site-packages\\sklearn\\neural_network\\multilayer_perceptron.py:562: ConvergenceWarning: Stochastic Optimizer: Maximum iterations (200) reached and the optimization hasn't converged yet.\n",
      "  % self.max_iter, ConvergenceWarning)\n"
     ]
    }
   ],
   "source": [
    "classifiers = [\n",
    "\n",
    "    LogisticRegression(),\n",
    "\n",
    "    DecisionTreeClassifier(criterion='gini'),\n",
    "\n",
    "    DecisionTreeClassifier(criterion='entropy'),\n",
    "\n",
    "    SVC(kernel=\"rbf\",probability=True),\n",
    "\n",
    "    SVC(kernel='linear',probability=True),\n",
    "\n",
    "    SVC(kernel='poly',probability=True),\n",
    "\n",
    "    SVC(kernel='sigmoid',probability=True),\n",
    "\n",
    "    GaussianNB(),\n",
    "\n",
    "    BernoulliNB(),\n",
    "\n",
    "    KNeighborsClassifier(12),\n",
    "\n",
    "    RandomForestClassifier(),\n",
    "\n",
    "    AdaBoostClassifier(),\n",
    "\n",
    "    GradientBoostingClassifier(),\n",
    "\n",
    "    MLPClassifier(),\n",
    "\n",
    "\n",
    "]\n",
    "\n",
    "   \n",
    "\n",
    "\"\"\" Logging for visual comparison. \"\"\"\n",
    "\n",
    " \n",
    "\n",
    "log_cols=[\"Classifier\", \"Accuracy\", \"Log Loss\"]\n",
    "\n",
    "log = pd.DataFrame(columns=log_cols)\n",
    "\n",
    " \n",
    "\n",
    "\"\"\" Iterate through each classification model stated above, fitting the model to the train data and finally\n",
    "\n",
    "    printing the accuracy and log loss of each model. \"\"\"\n",
    "\n",
    " \n",
    "\n",
    "for clf in classifiers:\n",
    "\n",
    "    clf.fit(X_train, y_train)\n",
    "\n",
    "    name = clf.__class__.__name__\n",
    "\n",
    "   \n",
    "\n",
    "    print(\"=\"*30)\n",
    "\n",
    "    print(name)\n",
    "\n",
    "   \n",
    "\n",
    "    print('****Results****')\n",
    "\n",
    "    train_predictions = clf.predict(X_test)\n",
    "\n",
    "    acc = accuracy_score(y_test, train_predictions)\n",
    "\n",
    "    print(\"Accuracy: {:.4%}\".format(acc))\n",
    "\n",
    "   \n",
    "\n",
    "    train_predictions = clf.predict_proba(X_test)\n",
    "\n",
    "   \n",
    "\n",
    "   \n",
    "\n",
    "   \n",
    "\n",
    "print(\"=\"*30)"
   ]
  },
  {
   "cell_type": "code",
   "execution_count": 104,
   "metadata": {},
   "outputs": [
    {
     "data": {
      "image/png": "[encoded data removed]",
      "text/plain": [
       "<Figure size 432x288 with 1 Axes>"
      ]
     },
     "metadata": {},
     "output_type": "display_data"
    }
   ],
   "source": [
    "# Importing Modules\n",
    "from sklearn import datasets\n",
    "from sklearn.manifold import TSNE\n",
    "import matplotlib.pyplot as plt\n",
    "\n",
    "# Loading dataset\n",
    "\n",
    "# Defining Model\n",
    "model = TSNE(learning_rate=100)\n",
    "\n",
    "# Fitting Model\n",
    "transformed = model.fit_transform(x)\n",
    "\n",
    "# Plotting 2d t-Sne\n",
    "x_axis = transformed[:, 0]\n",
    "y_axis = transformed[:, 1]\n",
    "\n",
    "plt.scatter(x_axis, y_axis, c=label)\n",
    "plt.show()"
   ]
  },
  {
   "cell_type": "code",
   "execution_count": 105,
   "metadata": {},
   "outputs": [
    {
     "data": {
      "image/png": "[encoded data removed]",
      "text/plain": [
       "<Figure size 432x288 with 1 Axes>"
      ]
     },
     "metadata": {},
     "output_type": "display_data"
    }
   ],
   "source": [
    "# Importing Modules\n",
    "from sklearn.datasets import load_iris\n",
    "import matplotlib.pyplot as plt\n",
    "from sklearn.cluster import DBSCAN\n",
    "from sklearn.decomposition import PCA\n",
    "\n",
    "\n",
    "# Declaring Model\n",
    "dbscan = DBSCAN()\n",
    "\n",
    "# Fitting\n",
    "dbscan.fit(x)\n",
    "\n",
    "# Transoring Using PCA\n",
    "pca = PCA(n_components=6).fit(x)\n",
    "pca_2d = pca.transform(x)\n",
    "\n",
    "# Plot based on Class\n",
    "for i in range(0, pca_2d.shape[0]):\n",
    "    if dbscan.labels_[i] == 0:\n",
    "        c1 = plt.scatter(pca_2d[i, 0], pca_2d[i, 1], c='r', marker='+')\n",
    "    elif dbscan.labels_[i] == 1:\n",
    "        c2 = plt.scatter(pca_2d[i, 0], pca_2d[i, 1], c='g', marker='o')\n",
    "    elif dbscan.labels_[i] == -1:\n",
    "        c3 = plt.scatter(pca_2d[i, 0], pca_2d[i, 1], c='b', marker='*')\n",
    "\n",
    "\n",
    "plt.title('DBSCAN finds 2 clusters and Noise')\n",
    "plt.show()"
   ]
  },
  {
   "cell_type": "code",
   "execution_count": null,
   "metadata": {},
   "outputs": [],
   "source": []
  },
  {
   "cell_type": "code",
   "execution_count": null,
   "metadata": {},
   "outputs": [],
   "source": []
  },
  {
   "cell_type": "code",
   "execution_count": null,
   "metadata": {},
   "outputs": [],
   "source": []
  },
  {
   "cell_type": "code",
   "execution_count": null,
   "metadata": {},
   "outputs": [],
   "source": []
  }
 ],
 "metadata": {
  "kernelspec": {
   "display_name": "Python 3",
   "language": "python",
   "name": "python3"
  },
  "language_info": {
   "codemirror_mode": {
    "name": "ipython",
    "version": 3
   },
   "file_extension": ".py",
   "mimetype": "text/x-python",
   "name": "python",
   "nbconvert_exporter": "python",
   "pygments_lexer": "ipython3",
   "version": "3.7.1"
  }
 },
 "nbformat": 4,
 "nbformat_minor": 2
}
